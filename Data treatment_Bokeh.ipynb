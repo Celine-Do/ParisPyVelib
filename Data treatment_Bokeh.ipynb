{
 "cells": [
  {
   "cell_type": "markdown",
   "metadata": {},
   "source": [
    "L'objectif est d'homogénéiser les coordonnées géographiques et les adresses"
   ]
  },
  {
   "cell_type": "markdown",
   "metadata": {},
   "source": [
    "## 1. Importation"
   ]
  },
  {
   "cell_type": "code",
   "execution_count": 41,
   "metadata": {},
   "outputs": [],
   "source": [
    "import numpy as np\n",
    "import pandas as pd"
   ]
  },
  {
   "cell_type": "code",
   "execution_count": 42,
   "metadata": {},
   "outputs": [
    {
     "name": "stdout",
     "output_type": "stream",
     "text": [
      "C:\\Users\\h.berthon\\Desktop\\Data Sc\\Projet Velib\n"
     ]
    }
   ],
   "source": [
    "# Définition du chemin d'accès:\n",
    "### Hermine\n",
    "%cd C:\\Users\\h.berthon\\Desktop\\Data Sc\\Projet Velib\n",
    "\n",
    "df = pd.read_csv('2018-2021_comptage-velo-donnees-compteurs.csv')"
   ]
  },
  {
   "cell_type": "markdown",
   "metadata": {},
   "source": [
    "## 2. Nouveau DataFrame"
   ]
  },
  {
   "cell_type": "code",
   "execution_count": 43,
   "metadata": {},
   "outputs": [
    {
     "data": {
      "text/html": [
       "<div>\n",
       "<style scoped>\n",
       "    .dataframe tbody tr th:only-of-type {\n",
       "        vertical-align: middle;\n",
       "    }\n",
       "\n",
       "    .dataframe tbody tr th {\n",
       "        vertical-align: top;\n",
       "    }\n",
       "\n",
       "    .dataframe thead th {\n",
       "        text-align: right;\n",
       "    }\n",
       "</style>\n",
       "<table border=\"1\" class=\"dataframe\">\n",
       "  <thead>\n",
       "    <tr style=\"text-align: right;\">\n",
       "      <th></th>\n",
       "      <th>Id</th>\n",
       "      <th>Address</th>\n",
       "      <th>Count_by_hour</th>\n",
       "      <th>Coord_old</th>\n",
       "      <th>Source</th>\n",
       "    </tr>\n",
       "  </thead>\n",
       "  <tbody>\n",
       "    <tr>\n",
       "      <th>0</th>\n",
       "      <td>100003096</td>\n",
       "      <td>97 avenue Denfert Rochereau</td>\n",
       "      <td>0.0</td>\n",
       "      <td>48.83511,2.33338</td>\n",
       "      <td>2021</td>\n",
       "    </tr>\n",
       "    <tr>\n",
       "      <th>1</th>\n",
       "      <td>100003096</td>\n",
       "      <td>97 avenue Denfert Rochereau</td>\n",
       "      <td>0.0</td>\n",
       "      <td>48.83511,2.33338</td>\n",
       "      <td>2021</td>\n",
       "    </tr>\n",
       "    <tr>\n",
       "      <th>2</th>\n",
       "      <td>100003096</td>\n",
       "      <td>97 avenue Denfert Rochereau</td>\n",
       "      <td>0.0</td>\n",
       "      <td>48.83511,2.33338</td>\n",
       "      <td>2021</td>\n",
       "    </tr>\n",
       "    <tr>\n",
       "      <th>3</th>\n",
       "      <td>100003096</td>\n",
       "      <td>97 avenue Denfert Rochereau</td>\n",
       "      <td>3.0</td>\n",
       "      <td>48.83511,2.33338</td>\n",
       "      <td>2021</td>\n",
       "    </tr>\n",
       "    <tr>\n",
       "      <th>4</th>\n",
       "      <td>100003096</td>\n",
       "      <td>97 avenue Denfert Rochereau</td>\n",
       "      <td>7.0</td>\n",
       "      <td>48.83511,2.33338</td>\n",
       "      <td>2021</td>\n",
       "    </tr>\n",
       "  </tbody>\n",
       "</table>\n",
       "</div>"
      ],
      "text/plain": [
       "          Id                      Address  Count_by_hour         Coord_old  \\\n",
       "0  100003096  97 avenue Denfert Rochereau            0.0  48.83511,2.33338   \n",
       "1  100003096  97 avenue Denfert Rochereau            0.0  48.83511,2.33338   \n",
       "2  100003096  97 avenue Denfert Rochereau            0.0  48.83511,2.33338   \n",
       "3  100003096  97 avenue Denfert Rochereau            3.0  48.83511,2.33338   \n",
       "4  100003096  97 avenue Denfert Rochereau            7.0  48.83511,2.33338   \n",
       "\n",
       "   Source  \n",
       "0    2021  \n",
       "1    2021  \n",
       "2    2021  \n",
       "3    2021  \n",
       "4    2021  "
      ]
     },
     "execution_count": 43,
     "metadata": {},
     "output_type": "execute_result"
    }
   ],
   "source": [
    "#Nouveau df avec moins de colonnes\n",
    "df_lat_lon= df.drop(['Unnamed: 0','Id_old','Address_old','Date_count', 'Date_instal', 'Photo_old', \n",
    "                      'Coord', 'Latitude', 'Longitude', 'Direction', 'Y_Date_Count', 'M_Date_Count', 'D_Date_Count',\n",
    "                     'Dweek_Date_Count', 'H_Date_Count', 'Y_Date_Instal', 'M_Date_Instal', 'D_Date_Instal'\n",
    "                     ], axis =1)\n",
    "\n",
    "df_lat_lon.head()"
   ]
  },
  {
   "cell_type": "code",
   "execution_count": 44,
   "metadata": {},
   "outputs": [],
   "source": [
    "#Changement de format de coordonnées géo\n",
    "\n",
    "# Création des colonnes 'longitude', et 'latitude'\n",
    "df_lat_lon[['Latitude', 'Longitude']] = df_lat_lon['Coord_old'].str.split(',', expand = True)\n",
    "\n",
    "#Les coordonnées que nous avons sont au format Degrés décimaux (DD) = 5 décimales\n",
    "df_lat_lon['Latitude'] = df_lat_lon['Latitude'].astype('float64').round(5)\n",
    "df_lat_lon['Longitude'] = df_lat_lon['Longitude'].astype('float64').round(5)\n",
    "\n",
    "#Nouvelle colonne avec les coordonnées arrondies\n",
    "df_lat_lon['Coord'] = df_lat_lon['Latitude'].astype('str') + ',' + df_lat_lon['Longitude'].astype('str')\n",
    "\n",
    "#Suppression colonnes inutiles\n",
    "df_lat_lon = df_lat_lon.drop(['Coord_old', 'Latitude', 'Longitude'], axis=1)\n"
   ]
  },
  {
   "cell_type": "code",
   "execution_count": 45,
   "metadata": {},
   "outputs": [
    {
     "name": "stdout",
     "output_type": "stream",
     "text": [
      "<class 'pandas.core.frame.DataFrame'>\n",
      "RangeIndex: 1723879 entries, 0 to 1723878\n",
      "Data columns (total 5 columns):\n",
      " #   Column         Dtype  \n",
      "---  ------         -----  \n",
      " 0   Id             int64  \n",
      " 1   Address        object \n",
      " 2   Count_by_hour  float64\n",
      " 3   Source         int64  \n",
      " 4   Coord          object \n",
      "dtypes: float64(1), int64(2), object(2)\n",
      "memory usage: 65.8+ MB\n"
     ]
    }
   ],
   "source": [
    "df_lat_lon.info()"
   ]
  },
  {
   "cell_type": "code",
   "execution_count": 46,
   "metadata": {},
   "outputs": [
    {
     "data": {
      "text/plain": [
       "Id                 71\n",
       "Address           108\n",
       "Count_by_hour    1054\n",
       "Source              4\n",
       "Coord              84\n",
       "dtype: int64"
      ]
     },
     "execution_count": 46,
     "metadata": {},
     "output_type": "execute_result"
    }
   ],
   "source": [
    "#Nombre de valeurs uniques avant le traitement des données\n",
    "df_lat_lon.nunique()"
   ]
  },
  {
   "cell_type": "markdown",
   "metadata": {},
   "source": [
    "Le nombre d'identifiant ne correspond pas au nombre d'adresse et au nombre de coordonnées géographiques.\n",
    "Il y a donc des erreurs liées à la fusion des dataframes de 2018 à 2021."
   ]
  },
  {
   "cell_type": "markdown",
   "metadata": {},
   "source": [
    "## 3. Traitement des addresses et coordonnées géographiques"
   ]
  },
  {
   "cell_type": "code",
   "execution_count": 47,
   "metadata": {
    "scrolled": true
   },
   "outputs": [
    {
     "data": {
      "text/html": [
       "<div>\n",
       "<style scoped>\n",
       "    .dataframe tbody tr th:only-of-type {\n",
       "        vertical-align: middle;\n",
       "    }\n",
       "\n",
       "    .dataframe tbody tr th {\n",
       "        vertical-align: top;\n",
       "    }\n",
       "\n",
       "    .dataframe thead th {\n",
       "        text-align: right;\n",
       "    }\n",
       "</style>\n",
       "<table border=\"1\" class=\"dataframe\">\n",
       "  <thead>\n",
       "    <tr style=\"text-align: right;\">\n",
       "      <th></th>\n",
       "      <th></th>\n",
       "      <th></th>\n",
       "      <th></th>\n",
       "    </tr>\n",
       "    <tr>\n",
       "      <th>Address</th>\n",
       "      <th>Id</th>\n",
       "      <th>Coord</th>\n",
       "      <th>Source</th>\n",
       "    </tr>\n",
       "  </thead>\n",
       "  <tbody>\n",
       "    <tr>\n",
       "      <th rowspan=\"2\" valign=\"top\">10  avenue de la Grande Armée SE-NO</th>\n",
       "      <th rowspan=\"2\" valign=\"top\">100044494</th>\n",
       "      <th rowspan=\"2\" valign=\"top\">48.87472,2.29244</th>\n",
       "      <th>2018</th>\n",
       "    </tr>\n",
       "    <tr>\n",
       "      <th>2019</th>\n",
       "    </tr>\n",
       "    <tr>\n",
       "      <th rowspan=\"2\" valign=\"top\">10 Bd Auguste Blanqui NE-SO</th>\n",
       "      <th rowspan=\"2\" valign=\"top\">100049408</th>\n",
       "      <th rowspan=\"2\" valign=\"top\">48.8309,2.35324</th>\n",
       "      <th>2018</th>\n",
       "    </tr>\n",
       "    <tr>\n",
       "      <th>2019</th>\n",
       "    </tr>\n",
       "    <tr>\n",
       "      <th rowspan=\"2\" valign=\"top\">10 avenue de la Grande Armée SE-NO</th>\n",
       "      <th rowspan=\"2\" valign=\"top\">100044494</th>\n",
       "      <th rowspan=\"2\" valign=\"top\">48.87472,2.29244</th>\n",
       "      <th>2020</th>\n",
       "    </tr>\n",
       "    <tr>\n",
       "      <th>2021</th>\n",
       "    </tr>\n",
       "    <tr>\n",
       "      <th rowspan=\"2\" valign=\"top\">10 boulevard Auguste Blanqui NE-SO</th>\n",
       "      <th rowspan=\"2\" valign=\"top\">100049408</th>\n",
       "      <th rowspan=\"2\" valign=\"top\">48.83068,2.35348</th>\n",
       "      <th>2020</th>\n",
       "    </tr>\n",
       "    <tr>\n",
       "      <th>2021</th>\n",
       "    </tr>\n",
       "    <tr>\n",
       "      <th rowspan=\"2\" valign=\"top\">100 Rue La Fayette O-E</th>\n",
       "      <th rowspan=\"2\" valign=\"top\">100003099</th>\n",
       "      <th rowspan=\"2\" valign=\"top\">48.87746,2.35008</th>\n",
       "      <th>2018</th>\n",
       "    </tr>\n",
       "    <tr>\n",
       "      <th>2019</th>\n",
       "    </tr>\n",
       "    <tr>\n",
       "      <th rowspan=\"2\" valign=\"top\">100 rue La Fayette</th>\n",
       "      <th rowspan=\"2\" valign=\"top\">100003099</th>\n",
       "      <th rowspan=\"2\" valign=\"top\">48.87746,2.35008</th>\n",
       "      <th>2020</th>\n",
       "    </tr>\n",
       "    <tr>\n",
       "      <th>2021</th>\n",
       "    </tr>\n",
       "    <tr>\n",
       "      <th rowspan=\"2\" valign=\"top\">102 Bd magenta SE-NO</th>\n",
       "      <th rowspan=\"2\" valign=\"top\">100047536</th>\n",
       "      <th rowspan=\"2\" valign=\"top\">48.87773,2.35493</th>\n",
       "      <th>2018</th>\n",
       "    </tr>\n",
       "    <tr>\n",
       "      <th>2019</th>\n",
       "    </tr>\n",
       "    <tr>\n",
       "      <th rowspan=\"2\" valign=\"top\">102 boulevard de Magenta SE-NO</th>\n",
       "      <th rowspan=\"2\" valign=\"top\">100047536</th>\n",
       "      <th rowspan=\"2\" valign=\"top\">48.87773,2.35493</th>\n",
       "      <th>2020</th>\n",
       "    </tr>\n",
       "    <tr>\n",
       "      <th>2021</th>\n",
       "    </tr>\n",
       "    <tr>\n",
       "      <th rowspan=\"2\" valign=\"top\">105 Rue La Fayette E-O</th>\n",
       "      <th rowspan=\"2\" valign=\"top\">100003097</th>\n",
       "      <th rowspan=\"2\" valign=\"top\">48.87767,2.35056</th>\n",
       "      <th>2018</th>\n",
       "    </tr>\n",
       "    <tr>\n",
       "      <th>2019</th>\n",
       "    </tr>\n",
       "    <tr>\n",
       "      <th rowspan=\"2\" valign=\"top\">105 rue La Fayette E-O</th>\n",
       "      <th rowspan=\"2\" valign=\"top\">100003097</th>\n",
       "      <th rowspan=\"2\" valign=\"top\">48.87767,2.35056</th>\n",
       "      <th>2020</th>\n",
       "    </tr>\n",
       "    <tr>\n",
       "      <th>2021</th>\n",
       "    </tr>\n",
       "    <tr>\n",
       "      <th rowspan=\"2\" valign=\"top\">106 Avenue Denfert Rochereau NE-SO</th>\n",
       "      <th rowspan=\"2\" valign=\"top\">100003098</th>\n",
       "      <th rowspan=\"2\" valign=\"top\">48.83514,2.33303</th>\n",
       "      <th>2018</th>\n",
       "    </tr>\n",
       "    <tr>\n",
       "      <th>2019</th>\n",
       "    </tr>\n",
       "    <tr>\n",
       "      <th rowspan=\"2\" valign=\"top\">106 avenue Denfert Rochereau NE-SO</th>\n",
       "      <th rowspan=\"2\" valign=\"top\">100003098</th>\n",
       "      <th rowspan=\"2\" valign=\"top\">48.83521,2.33307</th>\n",
       "      <th>2020</th>\n",
       "    </tr>\n",
       "    <tr>\n",
       "      <th>2021</th>\n",
       "    </tr>\n",
       "    <tr>\n",
       "      <th>129 Rue Lecourbe SO-NE</th>\n",
       "      <th>100056040</th>\n",
       "      <th>48.84209,2.301</th>\n",
       "      <th>2019</th>\n",
       "    </tr>\n",
       "    <tr>\n",
       "      <th rowspan=\"2\" valign=\"top\">129 rue Lecourbe SO-NE</th>\n",
       "      <th rowspan=\"2\" valign=\"top\">100056040</th>\n",
       "      <th rowspan=\"2\" valign=\"top\">48.84209,2.301</th>\n",
       "      <th>2020</th>\n",
       "    </tr>\n",
       "    <tr>\n",
       "      <th>2021</th>\n",
       "    </tr>\n",
       "    <tr>\n",
       "      <th>132 Rue Lecourbe NE-SO</th>\n",
       "      <th>100056044</th>\n",
       "      <th>48.84216,2.30115</th>\n",
       "      <th>2019</th>\n",
       "    </tr>\n",
       "    <tr>\n",
       "      <th rowspan=\"2\" valign=\"top\">132 rue Lecourbe NE-SO</th>\n",
       "      <th rowspan=\"2\" valign=\"top\">100056044</th>\n",
       "      <th rowspan=\"2\" valign=\"top\">48.84216,2.30115</th>\n",
       "      <th>2020</th>\n",
       "    </tr>\n",
       "    <tr>\n",
       "      <th>2021</th>\n",
       "    </tr>\n",
       "    <tr>\n",
       "      <th rowspan=\"2\" valign=\"top\">135 Avenue Daumesnil SE-NO</th>\n",
       "      <th rowspan=\"2\" valign=\"top\">100006300</th>\n",
       "      <th rowspan=\"2\" valign=\"top\">48.84344,2.38338</th>\n",
       "      <th>2018</th>\n",
       "    </tr>\n",
       "    <tr>\n",
       "      <th>2019</th>\n",
       "    </tr>\n",
       "    <tr>\n",
       "      <th rowspan=\"2\" valign=\"top\">135 avenue Daumesnil SE-NO</th>\n",
       "      <th rowspan=\"2\" valign=\"top\">100006300</th>\n",
       "      <th rowspan=\"2\" valign=\"top\">48.84344,2.38338</th>\n",
       "      <th>2020</th>\n",
       "    </tr>\n",
       "    <tr>\n",
       "      <th>2021</th>\n",
       "    </tr>\n",
       "    <tr>\n",
       "      <th rowspan=\"3\" valign=\"top\">147 avenue d'Italie S-N</th>\n",
       "      <th rowspan=\"3\" valign=\"top\">100056041</th>\n",
       "      <th rowspan=\"3\" valign=\"top\">48.82026,2.3592</th>\n",
       "      <th>2019</th>\n",
       "    </tr>\n",
       "    <tr>\n",
       "      <th>2020</th>\n",
       "    </tr>\n",
       "    <tr>\n",
       "      <th>2021</th>\n",
       "    </tr>\n",
       "    <tr>\n",
       "      <th rowspan=\"2\" valign=\"top\">152 Boulevard du Montparnasse</th>\n",
       "      <th rowspan=\"2\" valign=\"top\">100049407</th>\n",
       "      <th rowspan=\"2\" valign=\"top\">48.8408,2.33323</th>\n",
       "      <th>2018</th>\n",
       "    </tr>\n",
       "    <tr>\n",
       "      <th>2019</th>\n",
       "    </tr>\n",
       "    <tr>\n",
       "      <th rowspan=\"2\" valign=\"top\">152 boulevard du Montparnasse</th>\n",
       "      <th rowspan=\"2\" valign=\"top\">100049407</th>\n",
       "      <th rowspan=\"2\" valign=\"top\">48.8408,2.33323</th>\n",
       "      <th>2020</th>\n",
       "    </tr>\n",
       "    <tr>\n",
       "      <th>2021</th>\n",
       "    </tr>\n",
       "    <tr>\n",
       "      <th rowspan=\"2\" valign=\"top\">16 Avenue de la Porte des Ternes E-O</th>\n",
       "      <th rowspan=\"2\" valign=\"top\">100047534</th>\n",
       "      <th rowspan=\"2\" valign=\"top\">48.88181,2.28155</th>\n",
       "      <th>2018</th>\n",
       "    </tr>\n",
       "    <tr>\n",
       "      <th>2019</th>\n",
       "    </tr>\n",
       "    <tr>\n",
       "      <th rowspan=\"2\" valign=\"top\">16 avenue de la Porte des Ternes E-O</th>\n",
       "      <th rowspan=\"2\" valign=\"top\">100047534</th>\n",
       "      <th rowspan=\"2\" valign=\"top\">48.88181,2.28155</th>\n",
       "      <th>2020</th>\n",
       "    </tr>\n",
       "    <tr>\n",
       "      <th>2021</th>\n",
       "    </tr>\n",
       "    <tr>\n",
       "      <th rowspan=\"2\" valign=\"top\">18 quai de l'Hôtel de Ville</th>\n",
       "      <th rowspan=\"2\" valign=\"top\">100036719</th>\n",
       "      <th rowspan=\"2\" valign=\"top\">48.85372,2.35702</th>\n",
       "      <th>2020</th>\n",
       "    </tr>\n",
       "    <tr>\n",
       "      <th>2021</th>\n",
       "    </tr>\n",
       "    <tr>\n",
       "      <th rowspan=\"2\" valign=\"top\">18 quai de l'hotel de ville</th>\n",
       "      <th rowspan=\"2\" valign=\"top\">100036719</th>\n",
       "      <th rowspan=\"2\" valign=\"top\">48.85372,2.35702</th>\n",
       "      <th>2018</th>\n",
       "    </tr>\n",
       "    <tr>\n",
       "      <th>2019</th>\n",
       "    </tr>\n",
       "    <tr>\n",
       "      <th>180 Avenue d'Italie N-S</th>\n",
       "      <th>100056039</th>\n",
       "      <th>48.82024,2.35902</th>\n",
       "      <th>2019</th>\n",
       "    </tr>\n",
       "    <tr>\n",
       "      <th rowspan=\"2\" valign=\"top\">180 avenue d'Italie N-S</th>\n",
       "      <th rowspan=\"2\" valign=\"top\">100056039</th>\n",
       "      <th rowspan=\"2\" valign=\"top\">48.82024,2.35902</th>\n",
       "      <th>2020</th>\n",
       "    </tr>\n",
       "    <tr>\n",
       "      <th>2021</th>\n",
       "    </tr>\n",
       "    <tr>\n",
       "      <th rowspan=\"3\" valign=\"top\">2 avenue de la Porte de Bagnolet O-E</th>\n",
       "      <th rowspan=\"3\" valign=\"top\">100056036</th>\n",
       "      <th rowspan=\"3\" valign=\"top\">48.86451,2.40932</th>\n",
       "      <th>2019</th>\n",
       "    </tr>\n",
       "    <tr>\n",
       "      <th>2020</th>\n",
       "    </tr>\n",
       "    <tr>\n",
       "      <th>2021</th>\n",
       "    </tr>\n",
       "    <tr>\n",
       "      <th rowspan=\"2\" valign=\"top\">20 Avenue de Clichy</th>\n",
       "      <th rowspan=\"2\" valign=\"top\">100063175</th>\n",
       "      <th rowspan=\"2\" valign=\"top\">48.88529,2.32666</th>\n",
       "      <th>2020</th>\n",
       "    </tr>\n",
       "    <tr>\n",
       "      <th>2021</th>\n",
       "    </tr>\n",
       "    <tr>\n",
       "      <th rowspan=\"2\" valign=\"top\">21 Boulevard Auguste Blanqui SO-NE</th>\n",
       "      <th rowspan=\"2\" valign=\"top\">100047539</th>\n",
       "      <th rowspan=\"2\" valign=\"top\">48.83045,2.3532</th>\n",
       "      <th>2018</th>\n",
       "    </tr>\n",
       "    <tr>\n",
       "      <th>2019</th>\n",
       "    </tr>\n",
       "    <tr>\n",
       "      <th>21 boulevard Auguste Blanqui SO-NE</th>\n",
       "      <th>100047539</th>\n",
       "      <th>48.83045,2.3532</th>\n",
       "      <th>2020</th>\n",
       "    </tr>\n",
       "  </tbody>\n",
       "</table>\n",
       "</div>"
      ],
      "text/plain": [
       "Empty DataFrame\n",
       "Columns: []\n",
       "Index: [(10  avenue de la Grande Armée SE-NO, 100044494, 48.87472,2.29244, 2018), (10  avenue de la Grande Armée SE-NO, 100044494, 48.87472,2.29244, 2019), (10 Bd Auguste Blanqui NE-SO, 100049408, 48.8309,2.35324, 2018), (10 Bd Auguste Blanqui NE-SO, 100049408, 48.8309,2.35324, 2019), (10 avenue de la Grande Armée SE-NO, 100044494, 48.87472,2.29244, 2020), (10 avenue de la Grande Armée SE-NO, 100044494, 48.87472,2.29244, 2021), (10 boulevard Auguste Blanqui NE-SO, 100049408, 48.83068,2.35348, 2020), (10 boulevard Auguste Blanqui NE-SO, 100049408, 48.83068,2.35348, 2021), (100 Rue La Fayette O-E, 100003099, 48.87746,2.35008, 2018), (100 Rue La Fayette O-E, 100003099, 48.87746,2.35008, 2019), (100 rue La Fayette, 100003099, 48.87746,2.35008, 2020), (100 rue La Fayette, 100003099, 48.87746,2.35008, 2021), (102 Bd magenta SE-NO, 100047536, 48.87773,2.35493, 2018), (102 Bd magenta SE-NO, 100047536, 48.87773,2.35493, 2019), (102 boulevard de Magenta SE-NO, 100047536, 48.87773,2.35493, 2020), (102 boulevard de Magenta SE-NO, 100047536, 48.87773,2.35493, 2021), (105 Rue La Fayette E-O, 100003097, 48.87767,2.35056, 2018), (105 Rue La Fayette E-O, 100003097, 48.87767,2.35056, 2019), (105 rue La Fayette E-O, 100003097, 48.87767,2.35056, 2020), (105 rue La Fayette E-O, 100003097, 48.87767,2.35056, 2021), (106 Avenue Denfert Rochereau NE-SO, 100003098, 48.83514,2.33303, 2018), (106 Avenue Denfert Rochereau NE-SO, 100003098, 48.83514,2.33303, 2019), (106 avenue Denfert Rochereau NE-SO, 100003098, 48.83521,2.33307, 2020), (106 avenue Denfert Rochereau NE-SO, 100003098, 48.83521,2.33307, 2021), (129 Rue Lecourbe SO-NE, 100056040, 48.84209,2.301, 2019), (129 rue Lecourbe SO-NE, 100056040, 48.84209,2.301, 2020), (129 rue Lecourbe SO-NE, 100056040, 48.84209,2.301, 2021), (132 Rue Lecourbe NE-SO, 100056044, 48.84216,2.30115, 2019), (132 rue Lecourbe NE-SO, 100056044, 48.84216,2.30115, 2020), (132 rue Lecourbe NE-SO, 100056044, 48.84216,2.30115, 2021), (135 Avenue Daumesnil SE-NO, 100006300, 48.84344,2.38338, 2018), (135 Avenue Daumesnil SE-NO, 100006300, 48.84344,2.38338, 2019), (135 avenue Daumesnil SE-NO, 100006300, 48.84344,2.38338, 2020), (135 avenue Daumesnil SE-NO, 100006300, 48.84344,2.38338, 2021), (147 avenue d'Italie S-N, 100056041, 48.82026,2.3592, 2019), (147 avenue d'Italie S-N, 100056041, 48.82026,2.3592, 2020), (147 avenue d'Italie S-N, 100056041, 48.82026,2.3592, 2021), (152 Boulevard du Montparnasse, 100049407, 48.8408,2.33323, 2018), (152 Boulevard du Montparnasse, 100049407, 48.8408,2.33323, 2019), (152 boulevard du Montparnasse, 100049407, 48.8408,2.33323, 2020), (152 boulevard du Montparnasse, 100049407, 48.8408,2.33323, 2021), (16 Avenue de la Porte des Ternes E-O, 100047534, 48.88181,2.28155, 2018), (16 Avenue de la Porte des Ternes E-O, 100047534, 48.88181,2.28155, 2019), (16 avenue de la Porte des Ternes E-O, 100047534, 48.88181,2.28155, 2020), (16 avenue de la Porte des Ternes E-O, 100047534, 48.88181,2.28155, 2021), (18 quai de l'Hôtel de Ville, 100036719, 48.85372,2.35702, 2020), (18 quai de l'Hôtel de Ville, 100036719, 48.85372,2.35702, 2021), (18 quai de l'hotel de ville, 100036719, 48.85372,2.35702, 2018), (18 quai de l'hotel de ville, 100036719, 48.85372,2.35702, 2019), (180 Avenue d'Italie N-S, 100056039, 48.82024,2.35902, 2019), (180 avenue d'Italie N-S, 100056039, 48.82024,2.35902, 2020), (180 avenue d'Italie N-S, 100056039, 48.82024,2.35902, 2021), (2 avenue de la Porte de Bagnolet O-E, 100056036, 48.86451,2.40932, 2019), (2 avenue de la Porte de Bagnolet O-E, 100056036, 48.86451,2.40932, 2020), (2 avenue de la Porte de Bagnolet O-E, 100056036, 48.86451,2.40932, 2021), (20 Avenue de Clichy, 100063175, 48.88529,2.32666, 2020), (20 Avenue de Clichy, 100063175, 48.88529,2.32666, 2021), (21 Boulevard Auguste Blanqui SO-NE, 100047539, 48.83045,2.3532, 2018), (21 Boulevard Auguste Blanqui SO-NE, 100047539, 48.83045,2.3532, 2019), (21 boulevard Auguste Blanqui SO-NE, 100047539, 48.83045,2.3532, 2020)]"
      ]
     },
     "execution_count": 47,
     "metadata": {},
     "output_type": "execute_result"
    }
   ],
   "source": [
    "df_lat_lon[['Id','Coord','Address', 'Source']].groupby(['Address', 'Id','Coord', 'Source']).count().head(60)"
   ]
  },
  {
   "cell_type": "markdown",
   "metadata": {},
   "source": [
    "Avec les premières lignes on observe que suivant les années l'écriture des adresses ou des coordonnées géographiques ne sont pas homogènes. Pour cela, je vais créer un programme qui donnera aux valeurs \"aberrantes\" celles de 2021 qui englobent les compteurs récents et les plus anciens.\n",
    "Une première observation nous permet d'identifier certaines anomalies concernant les majuscules, les abrévations, peut-être la présence d'accents et d'espace en trop (non visible en format dataframe), etc."
   ]
  },
  {
   "cell_type": "code",
   "execution_count": 48,
   "metadata": {},
   "outputs": [
    {
     "data": {
      "text/html": [
       "<div>\n",
       "<style scoped>\n",
       "    .dataframe tbody tr th:only-of-type {\n",
       "        vertical-align: middle;\n",
       "    }\n",
       "\n",
       "    .dataframe tbody tr th {\n",
       "        vertical-align: top;\n",
       "    }\n",
       "\n",
       "    .dataframe thead th {\n",
       "        text-align: right;\n",
       "    }\n",
       "</style>\n",
       "<table border=\"1\" class=\"dataframe\">\n",
       "  <thead>\n",
       "    <tr style=\"text-align: right;\">\n",
       "      <th></th>\n",
       "      <th>Id</th>\n",
       "      <th>Address</th>\n",
       "      <th>Count_by_hour</th>\n",
       "      <th>Source</th>\n",
       "      <th>Coord</th>\n",
       "    </tr>\n",
       "  </thead>\n",
       "  <tbody>\n",
       "    <tr>\n",
       "      <th>1712536</th>\n",
       "      <td>100044494</td>\n",
       "      <td>10  AVENUE DE LA GRANDE ARMÉE SE-NO</td>\n",
       "      <td>14.0</td>\n",
       "      <td>2018</td>\n",
       "      <td>48.87472,2.29244</td>\n",
       "    </tr>\n",
       "    <tr>\n",
       "      <th>1565009</th>\n",
       "      <td>100044494</td>\n",
       "      <td>10  AVENUE DE LA GRANDE ARMÉE SE-NO</td>\n",
       "      <td>11.0</td>\n",
       "      <td>2019</td>\n",
       "      <td>48.87472,2.29244</td>\n",
       "    </tr>\n",
       "    <tr>\n",
       "      <th>1565008</th>\n",
       "      <td>100044494</td>\n",
       "      <td>10  AVENUE DE LA GRANDE ARMÉE SE-NO</td>\n",
       "      <td>3.0</td>\n",
       "      <td>2019</td>\n",
       "      <td>48.87472,2.29244</td>\n",
       "    </tr>\n",
       "    <tr>\n",
       "      <th>1565007</th>\n",
       "      <td>100044494</td>\n",
       "      <td>10  AVENUE DE LA GRANDE ARMÉE SE-NO</td>\n",
       "      <td>17.0</td>\n",
       "      <td>2019</td>\n",
       "      <td>48.87472,2.29244</td>\n",
       "    </tr>\n",
       "    <tr>\n",
       "      <th>1565006</th>\n",
       "      <td>100044494</td>\n",
       "      <td>10  AVENUE DE LA GRANDE ARMÉE SE-NO</td>\n",
       "      <td>2.0</td>\n",
       "      <td>2019</td>\n",
       "      <td>48.87472,2.29244</td>\n",
       "    </tr>\n",
       "  </tbody>\n",
       "</table>\n",
       "</div>"
      ],
      "text/plain": [
       "                Id                              Address  Count_by_hour  \\\n",
       "1712536  100044494  10  AVENUE DE LA GRANDE ARMÉE SE-NO           14.0   \n",
       "1565009  100044494  10  AVENUE DE LA GRANDE ARMÉE SE-NO           11.0   \n",
       "1565008  100044494  10  AVENUE DE LA GRANDE ARMÉE SE-NO            3.0   \n",
       "1565007  100044494  10  AVENUE DE LA GRANDE ARMÉE SE-NO           17.0   \n",
       "1565006  100044494  10  AVENUE DE LA GRANDE ARMÉE SE-NO            2.0   \n",
       "\n",
       "         Source             Coord  \n",
       "1712536    2018  48.87472,2.29244  \n",
       "1565009    2019  48.87472,2.29244  \n",
       "1565008    2019  48.87472,2.29244  \n",
       "1565007    2019  48.87472,2.29244  \n",
       "1565006    2019  48.87472,2.29244  "
      ]
     },
     "execution_count": 48,
     "metadata": {},
     "output_type": "execute_result"
    }
   ],
   "source": [
    "#Adresse nom du site de comptage en majuscule\n",
    "df_lat_lon['Address'] = df_lat_lon['Address'].apply(lambda x : x.upper())\n",
    "\n",
    "#Tri par adresse\n",
    "df_lat_lon = df_lat_lon.sort_values(by = ['Address'], axis=0)\n",
    "\n",
    "df_lat_lon.head()"
   ]
  },
  {
   "cell_type": "code",
   "execution_count": 49,
   "metadata": {},
   "outputs": [
    {
     "data": {
      "text/plain": [
       "Id                 71\n",
       "Address            81\n",
       "Count_by_hour    1054\n",
       "Source              4\n",
       "Coord              84\n",
       "dtype: int64"
      ]
     },
     "execution_count": 49,
     "metadata": {},
     "output_type": "execute_result"
    }
   ],
   "source": [
    "#Nombre de valeurs uniques \n",
    "df_lat_lon.nunique()"
   ]
  },
  {
   "cell_type": "markdown",
   "metadata": {},
   "source": [
    "Nous sommes passés de 108 valeurs à 81"
   ]
  },
  {
   "cell_type": "code",
   "execution_count": 50,
   "metadata": {},
   "outputs": [
    {
     "data": {
      "text/plain": [
       "Id                 71\n",
       "Address            80\n",
       "Count_by_hour    1054\n",
       "Source              4\n",
       "Coord              84\n",
       "dtype: int64"
      ]
     },
     "execution_count": 50,
     "metadata": {},
     "output_type": "execute_result"
    }
   ],
   "source": [
    "#Suppression des accents\n",
    "import unicodedata\n",
    "def strip_accents(s):\n",
    "    return ''.join(c for c in unicodedata.normalize('NFD', s)\n",
    "                  if unicodedata.category(c) != 'Mn')\n",
    "df_lat_lon['Address'] = df_lat_lon['Address'].apply(strip_accents)\n",
    "df_lat_lon.nunique()"
   ]
  },
  {
   "cell_type": "markdown",
   "metadata": {},
   "source": [
    "Nous sommes passés de 81 valeurs à 80"
   ]
  },
  {
   "cell_type": "code",
   "execution_count": 51,
   "metadata": {},
   "outputs": [
    {
     "data": {
      "text/plain": [
       "Id                 71\n",
       "Address            80\n",
       "Count_by_hour    1054\n",
       "Source              4\n",
       "Coord              84\n",
       "dtype: int64"
      ]
     },
     "execution_count": 51,
     "metadata": {},
     "output_type": "execute_result"
    }
   ],
   "source": [
    "#Suppression des espaces en trop\n",
    "df_lat_lon['Address'] = df_lat_lon['Address'].replace('  ', ' ')\n",
    "df_lat_lon.nunique()"
   ]
  },
  {
   "cell_type": "code",
   "execution_count": 129,
   "metadata": {},
   "outputs": [
    {
     "name": "stderr",
     "output_type": "stream",
     "text": [
      "<ipython-input-129-67b5875bf883>:3: SettingWithCopyWarning: \n",
      "A value is trying to be set on a copy of a slice from a DataFrame\n",
      "\n",
      "See the caveats in the documentation: https://pandas.pydata.org/pandas-docs/stable/user_guide/indexing.html#returning-a-view-versus-a-copy\n",
      "  df_lat_lon['Address'][(df_lat_lon['Id'] == i)] = address_2021\n",
      "<ipython-input-129-67b5875bf883>:3: SettingWithCopyWarning: \n",
      "A value is trying to be set on a copy of a slice from a DataFrame\n",
      "\n",
      "See the caveats in the documentation: https://pandas.pydata.org/pandas-docs/stable/user_guide/indexing.html#returning-a-view-versus-a-copy\n",
      "  df_lat_lon['Address'][(df_lat_lon['Id'] == i)] = address_2021\n",
      "<ipython-input-129-67b5875bf883>:3: SettingWithCopyWarning: \n",
      "A value is trying to be set on a copy of a slice from a DataFrame\n",
      "\n",
      "See the caveats in the documentation: https://pandas.pydata.org/pandas-docs/stable/user_guide/indexing.html#returning-a-view-versus-a-copy\n",
      "  df_lat_lon['Address'][(df_lat_lon['Id'] == i)] = address_2021\n",
      "<ipython-input-129-67b5875bf883>:3: SettingWithCopyWarning: \n",
      "A value is trying to be set on a copy of a slice from a DataFrame\n",
      "\n",
      "See the caveats in the documentation: https://pandas.pydata.org/pandas-docs/stable/user_guide/indexing.html#returning-a-view-versus-a-copy\n",
      "  df_lat_lon['Address'][(df_lat_lon['Id'] == i)] = address_2021\n",
      "<ipython-input-129-67b5875bf883>:3: SettingWithCopyWarning: \n",
      "A value is trying to be set on a copy of a slice from a DataFrame\n",
      "\n",
      "See the caveats in the documentation: https://pandas.pydata.org/pandas-docs/stable/user_guide/indexing.html#returning-a-view-versus-a-copy\n",
      "  df_lat_lon['Address'][(df_lat_lon['Id'] == i)] = address_2021\n",
      "<ipython-input-129-67b5875bf883>:3: SettingWithCopyWarning: \n",
      "A value is trying to be set on a copy of a slice from a DataFrame\n",
      "\n",
      "See the caveats in the documentation: https://pandas.pydata.org/pandas-docs/stable/user_guide/indexing.html#returning-a-view-versus-a-copy\n",
      "  df_lat_lon['Address'][(df_lat_lon['Id'] == i)] = address_2021\n",
      "<ipython-input-129-67b5875bf883>:3: SettingWithCopyWarning: \n",
      "A value is trying to be set on a copy of a slice from a DataFrame\n",
      "\n",
      "See the caveats in the documentation: https://pandas.pydata.org/pandas-docs/stable/user_guide/indexing.html#returning-a-view-versus-a-copy\n",
      "  df_lat_lon['Address'][(df_lat_lon['Id'] == i)] = address_2021\n",
      "<ipython-input-129-67b5875bf883>:3: SettingWithCopyWarning: \n",
      "A value is trying to be set on a copy of a slice from a DataFrame\n",
      "\n",
      "See the caveats in the documentation: https://pandas.pydata.org/pandas-docs/stable/user_guide/indexing.html#returning-a-view-versus-a-copy\n",
      "  df_lat_lon['Address'][(df_lat_lon['Id'] == i)] = address_2021\n",
      "<ipython-input-129-67b5875bf883>:3: SettingWithCopyWarning: \n",
      "A value is trying to be set on a copy of a slice from a DataFrame\n",
      "\n",
      "See the caveats in the documentation: https://pandas.pydata.org/pandas-docs/stable/user_guide/indexing.html#returning-a-view-versus-a-copy\n",
      "  df_lat_lon['Address'][(df_lat_lon['Id'] == i)] = address_2021\n",
      "<ipython-input-129-67b5875bf883>:3: SettingWithCopyWarning: \n",
      "A value is trying to be set on a copy of a slice from a DataFrame\n",
      "\n",
      "See the caveats in the documentation: https://pandas.pydata.org/pandas-docs/stable/user_guide/indexing.html#returning-a-view-versus-a-copy\n",
      "  df_lat_lon['Address'][(df_lat_lon['Id'] == i)] = address_2021\n",
      "<ipython-input-129-67b5875bf883>:3: SettingWithCopyWarning: \n",
      "A value is trying to be set on a copy of a slice from a DataFrame\n",
      "\n",
      "See the caveats in the documentation: https://pandas.pydata.org/pandas-docs/stable/user_guide/indexing.html#returning-a-view-versus-a-copy\n",
      "  df_lat_lon['Address'][(df_lat_lon['Id'] == i)] = address_2021\n",
      "<ipython-input-129-67b5875bf883>:3: SettingWithCopyWarning: \n",
      "A value is trying to be set on a copy of a slice from a DataFrame\n",
      "\n",
      "See the caveats in the documentation: https://pandas.pydata.org/pandas-docs/stable/user_guide/indexing.html#returning-a-view-versus-a-copy\n",
      "  df_lat_lon['Address'][(df_lat_lon['Id'] == i)] = address_2021\n",
      "<ipython-input-129-67b5875bf883>:3: SettingWithCopyWarning: \n",
      "A value is trying to be set on a copy of a slice from a DataFrame\n",
      "\n",
      "See the caveats in the documentation: https://pandas.pydata.org/pandas-docs/stable/user_guide/indexing.html#returning-a-view-versus-a-copy\n",
      "  df_lat_lon['Address'][(df_lat_lon['Id'] == i)] = address_2021\n",
      "<ipython-input-129-67b5875bf883>:3: SettingWithCopyWarning: \n",
      "A value is trying to be set on a copy of a slice from a DataFrame\n",
      "\n",
      "See the caveats in the documentation: https://pandas.pydata.org/pandas-docs/stable/user_guide/indexing.html#returning-a-view-versus-a-copy\n",
      "  df_lat_lon['Address'][(df_lat_lon['Id'] == i)] = address_2021\n",
      "<ipython-input-129-67b5875bf883>:3: SettingWithCopyWarning: \n",
      "A value is trying to be set on a copy of a slice from a DataFrame\n",
      "\n",
      "See the caveats in the documentation: https://pandas.pydata.org/pandas-docs/stable/user_guide/indexing.html#returning-a-view-versus-a-copy\n",
      "  df_lat_lon['Address'][(df_lat_lon['Id'] == i)] = address_2021\n",
      "<ipython-input-129-67b5875bf883>:3: SettingWithCopyWarning: \n",
      "A value is trying to be set on a copy of a slice from a DataFrame\n",
      "\n",
      "See the caveats in the documentation: https://pandas.pydata.org/pandas-docs/stable/user_guide/indexing.html#returning-a-view-versus-a-copy\n",
      "  df_lat_lon['Address'][(df_lat_lon['Id'] == i)] = address_2021\n",
      "<ipython-input-129-67b5875bf883>:3: SettingWithCopyWarning: \n",
      "A value is trying to be set on a copy of a slice from a DataFrame\n",
      "\n",
      "See the caveats in the documentation: https://pandas.pydata.org/pandas-docs/stable/user_guide/indexing.html#returning-a-view-versus-a-copy\n",
      "  df_lat_lon['Address'][(df_lat_lon['Id'] == i)] = address_2021\n",
      "<ipython-input-129-67b5875bf883>:3: SettingWithCopyWarning: \n",
      "A value is trying to be set on a copy of a slice from a DataFrame\n",
      "\n",
      "See the caveats in the documentation: https://pandas.pydata.org/pandas-docs/stable/user_guide/indexing.html#returning-a-view-versus-a-copy\n",
      "  df_lat_lon['Address'][(df_lat_lon['Id'] == i)] = address_2021\n",
      "<ipython-input-129-67b5875bf883>:3: SettingWithCopyWarning: \n",
      "A value is trying to be set on a copy of a slice from a DataFrame\n",
      "\n",
      "See the caveats in the documentation: https://pandas.pydata.org/pandas-docs/stable/user_guide/indexing.html#returning-a-view-versus-a-copy\n",
      "  df_lat_lon['Address'][(df_lat_lon['Id'] == i)] = address_2021\n",
      "<ipython-input-129-67b5875bf883>:3: SettingWithCopyWarning: \n",
      "A value is trying to be set on a copy of a slice from a DataFrame\n",
      "\n",
      "See the caveats in the documentation: https://pandas.pydata.org/pandas-docs/stable/user_guide/indexing.html#returning-a-view-versus-a-copy\n",
      "  df_lat_lon['Address'][(df_lat_lon['Id'] == i)] = address_2021\n",
      "<ipython-input-129-67b5875bf883>:3: SettingWithCopyWarning: \n",
      "A value is trying to be set on a copy of a slice from a DataFrame\n",
      "\n",
      "See the caveats in the documentation: https://pandas.pydata.org/pandas-docs/stable/user_guide/indexing.html#returning-a-view-versus-a-copy\n",
      "  df_lat_lon['Address'][(df_lat_lon['Id'] == i)] = address_2021\n",
      "<ipython-input-129-67b5875bf883>:3: SettingWithCopyWarning: \n",
      "A value is trying to be set on a copy of a slice from a DataFrame\n",
      "\n",
      "See the caveats in the documentation: https://pandas.pydata.org/pandas-docs/stable/user_guide/indexing.html#returning-a-view-versus-a-copy\n",
      "  df_lat_lon['Address'][(df_lat_lon['Id'] == i)] = address_2021\n",
      "<ipython-input-129-67b5875bf883>:3: SettingWithCopyWarning: \n",
      "A value is trying to be set on a copy of a slice from a DataFrame\n",
      "\n",
      "See the caveats in the documentation: https://pandas.pydata.org/pandas-docs/stable/user_guide/indexing.html#returning-a-view-versus-a-copy\n",
      "  df_lat_lon['Address'][(df_lat_lon['Id'] == i)] = address_2021\n",
      "<ipython-input-129-67b5875bf883>:3: SettingWithCopyWarning: \n",
      "A value is trying to be set on a copy of a slice from a DataFrame\n",
      "\n",
      "See the caveats in the documentation: https://pandas.pydata.org/pandas-docs/stable/user_guide/indexing.html#returning-a-view-versus-a-copy\n",
      "  df_lat_lon['Address'][(df_lat_lon['Id'] == i)] = address_2021\n",
      "<ipython-input-129-67b5875bf883>:3: SettingWithCopyWarning: \n",
      "A value is trying to be set on a copy of a slice from a DataFrame\n",
      "\n",
      "See the caveats in the documentation: https://pandas.pydata.org/pandas-docs/stable/user_guide/indexing.html#returning-a-view-versus-a-copy\n",
      "  df_lat_lon['Address'][(df_lat_lon['Id'] == i)] = address_2021\n",
      "<ipython-input-129-67b5875bf883>:3: SettingWithCopyWarning: \n",
      "A value is trying to be set on a copy of a slice from a DataFrame\n",
      "\n",
      "See the caveats in the documentation: https://pandas.pydata.org/pandas-docs/stable/user_guide/indexing.html#returning-a-view-versus-a-copy\n",
      "  df_lat_lon['Address'][(df_lat_lon['Id'] == i)] = address_2021\n",
      "<ipython-input-129-67b5875bf883>:3: SettingWithCopyWarning: \n",
      "A value is trying to be set on a copy of a slice from a DataFrame\n",
      "\n",
      "See the caveats in the documentation: https://pandas.pydata.org/pandas-docs/stable/user_guide/indexing.html#returning-a-view-versus-a-copy\n",
      "  df_lat_lon['Address'][(df_lat_lon['Id'] == i)] = address_2021\n"
     ]
    },
    {
     "name": "stderr",
     "output_type": "stream",
     "text": [
      "<ipython-input-129-67b5875bf883>:3: SettingWithCopyWarning: \n",
      "A value is trying to be set on a copy of a slice from a DataFrame\n",
      "\n",
      "See the caveats in the documentation: https://pandas.pydata.org/pandas-docs/stable/user_guide/indexing.html#returning-a-view-versus-a-copy\n",
      "  df_lat_lon['Address'][(df_lat_lon['Id'] == i)] = address_2021\n"
     ]
    },
    {
     "ename": "ValueError",
     "evalue": "Length of replacements must equal series length",
     "output_type": "error",
     "traceback": [
      "\u001b[1;31m---------------------------------------------------------------------------\u001b[0m",
      "\u001b[1;31mTypeError\u001b[0m                                 Traceback (most recent call last)",
      "\u001b[1;32m~\\Anaconda3\\lib\\site-packages\\pandas\\core\\series.py\u001b[0m in \u001b[0;36m__setitem__\u001b[1;34m(self, key, value)\u001b[0m\n\u001b[0;32m    999\u001b[0m         \u001b[1;32mtry\u001b[0m\u001b[1;33m:\u001b[0m\u001b[1;33m\u001b[0m\u001b[1;33m\u001b[0m\u001b[0m\n\u001b[1;32m-> 1000\u001b[1;33m             \u001b[0mself\u001b[0m\u001b[1;33m.\u001b[0m\u001b[0m_set_with_engine\u001b[0m\u001b[1;33m(\u001b[0m\u001b[0mkey\u001b[0m\u001b[1;33m,\u001b[0m \u001b[0mvalue\u001b[0m\u001b[1;33m)\u001b[0m\u001b[1;33m\u001b[0m\u001b[1;33m\u001b[0m\u001b[0m\n\u001b[0m\u001b[0;32m   1001\u001b[0m         \u001b[1;32mexcept\u001b[0m \u001b[1;33m(\u001b[0m\u001b[0mKeyError\u001b[0m\u001b[1;33m,\u001b[0m \u001b[0mValueError\u001b[0m\u001b[1;33m)\u001b[0m\u001b[1;33m:\u001b[0m\u001b[1;33m\u001b[0m\u001b[1;33m\u001b[0m\u001b[0m\n",
      "\u001b[1;32m~\\Anaconda3\\lib\\site-packages\\pandas\\core\\series.py\u001b[0m in \u001b[0;36m_set_with_engine\u001b[1;34m(self, key, value)\u001b[0m\n\u001b[0;32m   1032\u001b[0m         \u001b[1;31m# fails with AttributeError for IntervalIndex\u001b[0m\u001b[1;33m\u001b[0m\u001b[1;33m\u001b[0m\u001b[1;33m\u001b[0m\u001b[0m\n\u001b[1;32m-> 1033\u001b[1;33m         \u001b[0mloc\u001b[0m \u001b[1;33m=\u001b[0m \u001b[0mself\u001b[0m\u001b[1;33m.\u001b[0m\u001b[0mindex\u001b[0m\u001b[1;33m.\u001b[0m\u001b[0m_engine\u001b[0m\u001b[1;33m.\u001b[0m\u001b[0mget_loc\u001b[0m\u001b[1;33m(\u001b[0m\u001b[0mkey\u001b[0m\u001b[1;33m)\u001b[0m\u001b[1;33m\u001b[0m\u001b[1;33m\u001b[0m\u001b[0m\n\u001b[0m\u001b[0;32m   1034\u001b[0m         \u001b[0mvalidate_numeric_casting\u001b[0m\u001b[1;33m(\u001b[0m\u001b[0mself\u001b[0m\u001b[1;33m.\u001b[0m\u001b[0mdtype\u001b[0m\u001b[1;33m,\u001b[0m \u001b[0mvalue\u001b[0m\u001b[1;33m)\u001b[0m\u001b[1;33m\u001b[0m\u001b[1;33m\u001b[0m\u001b[0m\n",
      "\u001b[1;32mpandas\\_libs\\index.pyx\u001b[0m in \u001b[0;36mpandas._libs.index.IndexEngine.get_loc\u001b[1;34m()\u001b[0m\n",
      "\u001b[1;32mpandas\\_libs\\index.pyx\u001b[0m in \u001b[0;36mpandas._libs.index.IndexEngine.get_loc\u001b[1;34m()\u001b[0m\n",
      "\u001b[1;31mTypeError\u001b[0m: '1712536    False\n1565009    False\n1565008    False\n1565007    False\n1565006    False\n           ...  \n466710     False\n466709     False\n466708     False\n466760     False\n1668798    False\nName: Id, Length: 1723879, dtype: bool' is an invalid key",
      "\nDuring handling of the above exception, another exception occurred:\n",
      "\u001b[1;31mValueError\u001b[0m                                Traceback (most recent call last)",
      "\u001b[1;32m<ipython-input-129-67b5875bf883>\u001b[0m in \u001b[0;36m<module>\u001b[1;34m\u001b[0m\n\u001b[0;32m      1\u001b[0m \u001b[1;32mfor\u001b[0m \u001b[0mi\u001b[0m \u001b[1;32min\u001b[0m \u001b[0mdf_lat_lon\u001b[0m\u001b[1;33m[\u001b[0m\u001b[1;34m'Id'\u001b[0m\u001b[1;33m]\u001b[0m\u001b[1;33m.\u001b[0m\u001b[0munique\u001b[0m\u001b[1;33m(\u001b[0m\u001b[1;33m)\u001b[0m\u001b[1;33m:\u001b[0m\u001b[1;33m\u001b[0m\u001b[1;33m\u001b[0m\u001b[0m\n\u001b[0;32m      2\u001b[0m     \u001b[0maddress_2021\u001b[0m \u001b[1;33m=\u001b[0m \u001b[0mdf_lat_lon\u001b[0m\u001b[1;33m[\u001b[0m\u001b[1;34m'Address'\u001b[0m\u001b[1;33m]\u001b[0m\u001b[1;33m[\u001b[0m\u001b[1;33m(\u001b[0m\u001b[0mdf_lat_lon\u001b[0m\u001b[1;33m[\u001b[0m\u001b[1;34m'Source'\u001b[0m\u001b[1;33m]\u001b[0m \u001b[1;33m==\u001b[0m \u001b[1;36m2021\u001b[0m\u001b[1;33m)\u001b[0m \u001b[1;33m&\u001b[0m \u001b[1;33m(\u001b[0m\u001b[0mdf_lat_lon\u001b[0m\u001b[1;33m[\u001b[0m\u001b[1;34m'Id'\u001b[0m\u001b[1;33m]\u001b[0m \u001b[1;33m==\u001b[0m \u001b[0mi\u001b[0m\u001b[1;33m)\u001b[0m\u001b[1;33m]\u001b[0m\u001b[1;33m.\u001b[0m\u001b[0munique\u001b[0m\u001b[1;33m(\u001b[0m\u001b[1;33m)\u001b[0m\u001b[1;33m\u001b[0m\u001b[1;33m\u001b[0m\u001b[0m\n\u001b[1;32m----> 3\u001b[1;33m     \u001b[0mdf_lat_lon\u001b[0m\u001b[1;33m[\u001b[0m\u001b[1;34m'Address'\u001b[0m\u001b[1;33m]\u001b[0m\u001b[1;33m[\u001b[0m\u001b[1;33m(\u001b[0m\u001b[0mdf_lat_lon\u001b[0m\u001b[1;33m[\u001b[0m\u001b[1;34m'Id'\u001b[0m\u001b[1;33m]\u001b[0m \u001b[1;33m==\u001b[0m \u001b[0mi\u001b[0m\u001b[1;33m)\u001b[0m\u001b[1;33m]\u001b[0m \u001b[1;33m=\u001b[0m \u001b[0maddress_2021\u001b[0m\u001b[1;33m\u001b[0m\u001b[1;33m\u001b[0m\u001b[0m\n\u001b[0m",
      "\u001b[1;32m~\\Anaconda3\\lib\\site-packages\\pandas\\core\\series.py\u001b[0m in \u001b[0;36m__setitem__\u001b[1;34m(self, key, value)\u001b[0m\n\u001b[0;32m   1018\u001b[0m                 \u001b[0mkey\u001b[0m \u001b[1;33m=\u001b[0m \u001b[0mnp\u001b[0m\u001b[1;33m.\u001b[0m\u001b[0masarray\u001b[0m\u001b[1;33m(\u001b[0m\u001b[0mkey\u001b[0m\u001b[1;33m,\u001b[0m \u001b[0mdtype\u001b[0m\u001b[1;33m=\u001b[0m\u001b[0mbool\u001b[0m\u001b[1;33m)\u001b[0m\u001b[1;33m\u001b[0m\u001b[1;33m\u001b[0m\u001b[0m\n\u001b[0;32m   1019\u001b[0m                 \u001b[1;32mtry\u001b[0m\u001b[1;33m:\u001b[0m\u001b[1;33m\u001b[0m\u001b[1;33m\u001b[0m\u001b[0m\n\u001b[1;32m-> 1020\u001b[1;33m                     \u001b[0mself\u001b[0m\u001b[1;33m.\u001b[0m\u001b[0m_where\u001b[0m\u001b[1;33m(\u001b[0m\u001b[1;33m~\u001b[0m\u001b[0mkey\u001b[0m\u001b[1;33m,\u001b[0m \u001b[0mvalue\u001b[0m\u001b[1;33m,\u001b[0m \u001b[0minplace\u001b[0m\u001b[1;33m=\u001b[0m\u001b[1;32mTrue\u001b[0m\u001b[1;33m)\u001b[0m\u001b[1;33m\u001b[0m\u001b[1;33m\u001b[0m\u001b[0m\n\u001b[0m\u001b[0;32m   1021\u001b[0m                 \u001b[1;32mexcept\u001b[0m \u001b[0mInvalidIndexError\u001b[0m\u001b[1;33m:\u001b[0m\u001b[1;33m\u001b[0m\u001b[1;33m\u001b[0m\u001b[0m\n\u001b[0;32m   1022\u001b[0m                     \u001b[0mself\u001b[0m\u001b[1;33m.\u001b[0m\u001b[0miloc\u001b[0m\u001b[1;33m[\u001b[0m\u001b[0mkey\u001b[0m\u001b[1;33m]\u001b[0m \u001b[1;33m=\u001b[0m \u001b[0mvalue\u001b[0m\u001b[1;33m\u001b[0m\u001b[1;33m\u001b[0m\u001b[0m\n",
      "\u001b[1;32m~\\Anaconda3\\lib\\site-packages\\pandas\\core\\generic.py\u001b[0m in \u001b[0;36m_where\u001b[1;34m(self, cond, other, inplace, axis, level, errors, try_cast)\u001b[0m\n\u001b[0;32m   8819\u001b[0m \u001b[1;33m\u001b[0m\u001b[0m\n\u001b[0;32m   8820\u001b[0m                     \u001b[1;32melse\u001b[0m\u001b[1;33m:\u001b[0m\u001b[1;33m\u001b[0m\u001b[1;33m\u001b[0m\u001b[0m\n\u001b[1;32m-> 8821\u001b[1;33m                         raise ValueError(\n\u001b[0m\u001b[0;32m   8822\u001b[0m                             \u001b[1;34m\"Length of replacements must equal series length\"\u001b[0m\u001b[1;33m\u001b[0m\u001b[1;33m\u001b[0m\u001b[0m\n\u001b[0;32m   8823\u001b[0m                         )\n",
      "\u001b[1;31mValueError\u001b[0m: Length of replacements must equal series length"
     ]
    }
   ],
   "source": [
    "for i in df_lat_lon['Id'].unique():\n",
    "    dfi = df_lat_lon[df_lat_lon['Id'] == i]\n",
    "    address2021 = dfi['Address'][dfi['Source']== 2021].unique()\n",
    "        df_lat_lon['Address'][(df_lat_lon['Id'] == i)] = address_2021"
   ]
  },
  {
   "cell_type": "code",
   "execution_count": 130,
   "metadata": {},
   "outputs": [
    {
     "data": {
      "text/plain": [
       "Id                 71\n",
       "Address            76\n",
       "Count_by_hour    1054\n",
       "Source              4\n",
       "Coord              84\n",
       "dtype: int64"
      ]
     },
     "execution_count": 130,
     "metadata": {},
     "output_type": "execute_result"
    }
   ],
   "source": [
    "df_lat_lon.nunique()"
   ]
  },
  {
   "cell_type": "code",
   "execution_count": 131,
   "metadata": {},
   "outputs": [
    {
     "data": {
      "text/plain": [
       "array([100044494, 100049408, 100003099, 100047536, 100003097, 100003098,\n",
       "       100056040, 100056044, 100006300, 100056041, 100049407, 100047534,\n",
       "       100036719, 100056039, 100056036, 100063175, 100047539, 100060174,\n",
       "       100050132, 300014702, 100047537, 100041488, 100056336, 100007049,\n",
       "       100056225, 100060175, 100056042, 100047550, 100065336, 100056330,\n",
       "       100056334, 100036718, 100056038, 100047547, 100044493, 100063174,\n",
       "       100044495, 100056034, 100047540, 100044506, 100056326, 100063173,\n",
       "       100047544, 100056032, 100047533, 100060178, 100003096, 100047545,\n",
       "       100047538, 100047548, 100056327, 100056331, 100047542, 100047546,\n",
       "       100056226, 100056329, 100056332, 100056045, 100056047, 100056223,\n",
       "       100056046, 100047551, 100047535, 100047549, 100047541, 100056335,\n",
       "       100050876, 100057445, 100057329, 100057380, 100042374], dtype=int64)"
      ]
     },
     "execution_count": 131,
     "metadata": {},
     "output_type": "execute_result"
    }
   ],
   "source": [
    "df_lat_lon['Id'].unique()"
   ]
  },
  {
   "cell_type": "code",
   "execution_count": 52,
   "metadata": {},
   "outputs": [
    {
     "ename": "TypeError",
     "evalue": "'regex' must be a string or a compiled regular expression or a list or dict of strings or regular expressions, you passed a 'bool'",
     "output_type": "error",
     "traceback": [
      "\u001b[1;31m---------------------------------------------------------------------------\u001b[0m",
      "\u001b[1;31mTypeError\u001b[0m                                 Traceback (most recent call last)",
      "\u001b[1;32m<ipython-input-52-33852bcb7a7e>\u001b[0m in \u001b[0;36m<module>\u001b[1;34m\u001b[0m\n\u001b[0;32m      1\u001b[0m \u001b[0mdfi\u001b[0m \u001b[1;33m=\u001b[0m \u001b[0mdf_lat_lon\u001b[0m\u001b[1;33m[\u001b[0m\u001b[0mdf_lat_lon\u001b[0m\u001b[1;33m[\u001b[0m\u001b[1;34m'Id'\u001b[0m\u001b[1;33m]\u001b[0m \u001b[1;33m==\u001b[0m \u001b[1;36m100044494\u001b[0m\u001b[1;33m]\u001b[0m\u001b[1;33m\u001b[0m\u001b[1;33m\u001b[0m\u001b[0m\n\u001b[0;32m      2\u001b[0m \u001b[0maddress2021\u001b[0m \u001b[1;33m=\u001b[0m \u001b[0mdfi\u001b[0m\u001b[1;33m[\u001b[0m\u001b[1;34m'Address'\u001b[0m\u001b[1;33m]\u001b[0m\u001b[1;33m[\u001b[0m\u001b[0mdfi\u001b[0m\u001b[1;33m[\u001b[0m\u001b[1;34m'Source'\u001b[0m\u001b[1;33m]\u001b[0m\u001b[1;33m==\u001b[0m \u001b[1;36m2021\u001b[0m\u001b[1;33m]\u001b[0m\u001b[1;33m.\u001b[0m\u001b[0munique\u001b[0m\u001b[1;33m(\u001b[0m\u001b[1;33m)\u001b[0m\u001b[1;33m\u001b[0m\u001b[1;33m\u001b[0m\u001b[0m\n\u001b[1;32m----> 3\u001b[1;33m \u001b[0mdf_lat_lon\u001b[0m\u001b[1;33m[\u001b[0m\u001b[1;34m'Address'\u001b[0m\u001b[1;33m]\u001b[0m \u001b[1;33m=\u001b[0m \u001b[0mdfi\u001b[0m\u001b[1;33m[\u001b[0m\u001b[1;34m'Address'\u001b[0m\u001b[1;33m]\u001b[0m\u001b[1;33m.\u001b[0m\u001b[0mreplace\u001b[0m\u001b[1;33m(\u001b[0m\u001b[0mvalue\u001b[0m \u001b[1;33m=\u001b[0m \u001b[0maddress2021\u001b[0m\u001b[1;33m)\u001b[0m\u001b[1;33m\u001b[0m\u001b[1;33m\u001b[0m\u001b[0m\n\u001b[0m\u001b[0;32m      4\u001b[0m \u001b[0mdfi\u001b[0m\u001b[1;33m[\u001b[0m\u001b[1;34m'Address'\u001b[0m\u001b[1;33m]\u001b[0m\u001b[1;33m.\u001b[0m\u001b[0munique\u001b[0m\u001b[1;33m(\u001b[0m\u001b[1;33m)\u001b[0m\u001b[1;33m\u001b[0m\u001b[1;33m\u001b[0m\u001b[0m\n\u001b[0;32m      5\u001b[0m \u001b[1;31m#address2021\u001b[0m\u001b[1;33m\u001b[0m\u001b[1;33m\u001b[0m\u001b[1;33m\u001b[0m\u001b[0m\n",
      "\u001b[1;32m~\\Anaconda3\\lib\\site-packages\\pandas\\core\\series.py\u001b[0m in \u001b[0;36mreplace\u001b[1;34m(self, to_replace, value, inplace, limit, regex, method)\u001b[0m\n\u001b[0;32m   4561\u001b[0m         \u001b[0mmethod\u001b[0m\u001b[1;33m=\u001b[0m\u001b[1;34m\"pad\"\u001b[0m\u001b[1;33m,\u001b[0m\u001b[1;33m\u001b[0m\u001b[1;33m\u001b[0m\u001b[0m\n\u001b[0;32m   4562\u001b[0m     ):\n\u001b[1;32m-> 4563\u001b[1;33m         return super().replace(\n\u001b[0m\u001b[0;32m   4564\u001b[0m             \u001b[0mto_replace\u001b[0m\u001b[1;33m=\u001b[0m\u001b[0mto_replace\u001b[0m\u001b[1;33m,\u001b[0m\u001b[1;33m\u001b[0m\u001b[1;33m\u001b[0m\u001b[0m\n\u001b[0;32m   4565\u001b[0m             \u001b[0mvalue\u001b[0m\u001b[1;33m=\u001b[0m\u001b[0mvalue\u001b[0m\u001b[1;33m,\u001b[0m\u001b[1;33m\u001b[0m\u001b[1;33m\u001b[0m\u001b[0m\n",
      "\u001b[1;32m~\\Anaconda3\\lib\\site-packages\\pandas\\core\\generic.py\u001b[0m in \u001b[0;36mreplace\u001b[1;34m(self, to_replace, value, inplace, limit, regex, method)\u001b[0m\n\u001b[0;32m   6558\u001b[0m                     \u001b[1;32mor\u001b[0m \u001b[0mis_dict_like\u001b[0m\u001b[1;33m(\u001b[0m\u001b[0mregex\u001b[0m\u001b[1;33m)\u001b[0m\u001b[1;33m\u001b[0m\u001b[1;33m\u001b[0m\u001b[0m\n\u001b[0;32m   6559\u001b[0m                 ):\n\u001b[1;32m-> 6560\u001b[1;33m                     raise TypeError(\n\u001b[0m\u001b[0;32m   6561\u001b[0m                         \u001b[1;34mf\"'regex' must be a string or a compiled regular expression \"\u001b[0m\u001b[1;33m\u001b[0m\u001b[1;33m\u001b[0m\u001b[0m\n\u001b[0;32m   6562\u001b[0m                         \u001b[1;34mf\"or a list or dict of strings or regular expressions, \"\u001b[0m\u001b[1;33m\u001b[0m\u001b[1;33m\u001b[0m\u001b[0m\n",
      "\u001b[1;31mTypeError\u001b[0m: 'regex' must be a string or a compiled regular expression or a list or dict of strings or regular expressions, you passed a 'bool'"
     ]
    }
   ],
   "source": [
    "dfi = df_lat_lon[df_lat_lon['Id'] == 100044494]\n",
    "address2021 = dfi['Address'][dfi['Source']== 2021].unique()\n",
    "#df_lat_lon['Address'] = dfi['Address'].replace(value = address2021)\n",
    "dfi['Address'].unique()\n",
    "#address2021"
   ]
  },
  {
   "cell_type": "code",
   "execution_count": null,
   "metadata": {
    "scrolled": true
   },
   "outputs": [],
   "source": [
    "#mettre addresse old 2019 en liste, liste addresse 2021 \n",
    "#my_dict = dict(zip(numlist, abclist))\n",
    "#df.replace(my_dict, inplace=True)\n",
    "#ou alors programme"
   ]
  },
  {
   "cell_type": "code",
   "execution_count": 119,
   "metadata": {},
   "outputs": [
    {
     "data": {
      "text/plain": [
       "array(['10 BOULEVARD AUGUSTE BLANQUI NE-SO'], dtype=object)"
      ]
     },
     "execution_count": 119,
     "metadata": {},
     "output_type": "execute_result"
    }
   ],
   "source": [
    "df_lat_lon['Address'][(df_lat_lon['Id'] == 100049408)].unique()"
   ]
  },
  {
   "cell_type": "code",
   "execution_count": 112,
   "metadata": {},
   "outputs": [
    {
     "name": "stdout",
     "output_type": "stream",
     "text": [
      "['10 BOULEVARD AUGUSTE BLANQUI NE-SO']\n"
     ]
    }
   ],
   "source": [
    "address_2021 = df_lat_lon['Address'][(df_lat_lon['Source'] == 2021) & (df_lat_lon['Id'] == 100049408)].unique()\n",
    "print(address_2021)"
   ]
  },
  {
   "cell_type": "code",
   "execution_count": 118,
   "metadata": {
    "scrolled": true
   },
   "outputs": [
    {
     "name": "stderr",
     "output_type": "stream",
     "text": [
      "<ipython-input-118-a8c898296bee>:1: SettingWithCopyWarning: \n",
      "A value is trying to be set on a copy of a slice from a DataFrame\n",
      "\n",
      "See the caveats in the documentation: https://pandas.pydata.org/pandas-docs/stable/user_guide/indexing.html#returning-a-view-versus-a-copy\n",
      "  df_lat_lon['Address'][(df_lat_lon['Id'] == 100049408)] = address_2021\n"
     ]
    }
   ],
   "source": [
    "df_lat_lon['Address'][(df_lat_lon['Id'] == 100049408)] = address_2021"
   ]
  },
  {
   "cell_type": "code",
   "execution_count": 117,
   "metadata": {},
   "outputs": [
    {
     "ename": "TypeError",
     "evalue": "'regex' must be a string or a compiled regular expression or a list or dict of strings or regular expressions, you passed a 'bool'",
     "output_type": "error",
     "traceback": [
      "\u001b[1;31m---------------------------------------------------------------------------\u001b[0m",
      "\u001b[1;31mTypeError\u001b[0m                                 Traceback (most recent call last)",
      "\u001b[1;32m<ipython-input-117-de511ad16d07>\u001b[0m in \u001b[0;36m<module>\u001b[1;34m\u001b[0m\n\u001b[1;32m----> 1\u001b[1;33m \u001b[0mdf_lat_lon\u001b[0m\u001b[1;33m[\u001b[0m\u001b[1;34m'Address'\u001b[0m\u001b[1;33m]\u001b[0m\u001b[1;33m[\u001b[0m\u001b[1;33m(\u001b[0m\u001b[0mdf_lat_lon\u001b[0m\u001b[1;33m[\u001b[0m\u001b[1;34m'Id'\u001b[0m\u001b[1;33m]\u001b[0m \u001b[1;33m==\u001b[0m \u001b[1;36m100049408\u001b[0m\u001b[1;33m)\u001b[0m\u001b[1;33m]\u001b[0m \u001b[1;33m=\u001b[0m \u001b[0mdf_lat_lon\u001b[0m\u001b[1;33m[\u001b[0m\u001b[1;34m'Address'\u001b[0m\u001b[1;33m]\u001b[0m\u001b[1;33m[\u001b[0m\u001b[1;33m(\u001b[0m\u001b[0mdf_lat_lon\u001b[0m\u001b[1;33m[\u001b[0m\u001b[1;34m'Id'\u001b[0m\u001b[1;33m]\u001b[0m \u001b[1;33m==\u001b[0m \u001b[1;36m100049408\u001b[0m\u001b[1;33m)\u001b[0m\u001b[1;33m]\u001b[0m\u001b[1;33m.\u001b[0m\u001b[0mreplace\u001b[0m\u001b[1;33m(\u001b[0m\u001b[0mvalue\u001b[0m \u001b[1;33m=\u001b[0m \u001b[0maddress_2021\u001b[0m\u001b[1;33m)\u001b[0m\u001b[1;33m\u001b[0m\u001b[1;33m\u001b[0m\u001b[0m\n\u001b[0m",
      "\u001b[1;32m~\\Anaconda3\\lib\\site-packages\\pandas\\core\\series.py\u001b[0m in \u001b[0;36mreplace\u001b[1;34m(self, to_replace, value, inplace, limit, regex, method)\u001b[0m\n\u001b[0;32m   4561\u001b[0m         \u001b[0mmethod\u001b[0m\u001b[1;33m=\u001b[0m\u001b[1;34m\"pad\"\u001b[0m\u001b[1;33m,\u001b[0m\u001b[1;33m\u001b[0m\u001b[1;33m\u001b[0m\u001b[0m\n\u001b[0;32m   4562\u001b[0m     ):\n\u001b[1;32m-> 4563\u001b[1;33m         return super().replace(\n\u001b[0m\u001b[0;32m   4564\u001b[0m             \u001b[0mto_replace\u001b[0m\u001b[1;33m=\u001b[0m\u001b[0mto_replace\u001b[0m\u001b[1;33m,\u001b[0m\u001b[1;33m\u001b[0m\u001b[1;33m\u001b[0m\u001b[0m\n\u001b[0;32m   4565\u001b[0m             \u001b[0mvalue\u001b[0m\u001b[1;33m=\u001b[0m\u001b[0mvalue\u001b[0m\u001b[1;33m,\u001b[0m\u001b[1;33m\u001b[0m\u001b[1;33m\u001b[0m\u001b[0m\n",
      "\u001b[1;32m~\\Anaconda3\\lib\\site-packages\\pandas\\core\\generic.py\u001b[0m in \u001b[0;36mreplace\u001b[1;34m(self, to_replace, value, inplace, limit, regex, method)\u001b[0m\n\u001b[0;32m   6558\u001b[0m                     \u001b[1;32mor\u001b[0m \u001b[0mis_dict_like\u001b[0m\u001b[1;33m(\u001b[0m\u001b[0mregex\u001b[0m\u001b[1;33m)\u001b[0m\u001b[1;33m\u001b[0m\u001b[1;33m\u001b[0m\u001b[0m\n\u001b[0;32m   6559\u001b[0m                 ):\n\u001b[1;32m-> 6560\u001b[1;33m                     raise TypeError(\n\u001b[0m\u001b[0;32m   6561\u001b[0m                         \u001b[1;34mf\"'regex' must be a string or a compiled regular expression \"\u001b[0m\u001b[1;33m\u001b[0m\u001b[1;33m\u001b[0m\u001b[0m\n\u001b[0;32m   6562\u001b[0m                         \u001b[1;34mf\"or a list or dict of strings or regular expressions, \"\u001b[0m\u001b[1;33m\u001b[0m\u001b[1;33m\u001b[0m\u001b[0m\n",
      "\u001b[1;31mTypeError\u001b[0m: 'regex' must be a string or a compiled regular expression or a list or dict of strings or regular expressions, you passed a 'bool'"
     ]
    }
   ],
   "source": [
    "df_lat_lon['Address'][(df_lat_lon['Id'] == 100049408)] = df_lat_lon['Address'][(df_lat_lon['Id'] == 100049408)].replace(value = address_2021)"
   ]
  },
  {
   "cell_type": "code",
   "execution_count": null,
   "metadata": {},
   "outputs": [],
   "source": []
  },
  {
   "cell_type": "code",
   "execution_count": null,
   "metadata": {},
   "outputs": [],
   "source": [
    "df1 = df_lat_lon[['Id','Coord','Address', 'Source']].groupby(['Address', 'Id','Coord', 'Source']).count().reset_index()\n",
    "df1.head()"
   ]
  }
 ],
 "metadata": {
  "kernelspec": {
   "display_name": "Python 3",
   "language": "python",
   "name": "python3"
  },
  "language_info": {
   "codemirror_mode": {
    "name": "ipython",
    "version": 3
   },
   "file_extension": ".py",
   "mimetype": "text/x-python",
   "name": "python",
   "nbconvert_exporter": "python",
   "pygments_lexer": "ipython3",
   "version": "3.8.5"
  }
 },
 "nbformat": 4,
 "nbformat_minor": 4
}
