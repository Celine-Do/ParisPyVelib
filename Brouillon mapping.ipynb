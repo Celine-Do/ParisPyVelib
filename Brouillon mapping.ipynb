{
 "cells": [
  {
   "cell_type": "code",
   "execution_count": null,
   "metadata": {},
   "outputs": [],
   "source": [
    "#Visualisation de la carte\n",
    "from  bokeh.tile_providers import get_provider\n",
    "tuile = get_provider('CARTODBPOSITRON')\n",
    "p = figure(x_range = (250000, 270000), y_range = (6244000, 6257000), \n",
    "           x_axis_type = 'mercator', y_axis_type = 'mercator' )\n",
    "p.add_tile(tuile)\n",
    "show(p)"
   ]
  },
  {
   "cell_type": "code",
   "execution_count": null,
   "metadata": {},
   "outputs": [],
   "source": [
    "#Visualisation avec les valeurs\n",
    "from bokeh.models import ColumnDataSource, LabelSet\n",
    "source = ColumnDataSource(df3)\n",
    "p = figure(x_range = (250000, 270000), y_range = (6240000, 6260000), \n",
    "           x_axis_type = 'mercator', y_axis_type = 'mercator')\n",
    "tuile = get_provider('CARTODBPOSITRON')\n",
    "p.add_tile(tuile)\n",
    "p.circle(x='Longitude', y='Latitude',source = source, \n",
    "         fill_color = 'blue',line_color='grey', size = 10)\n",
    "labels = LabelSet(x='Longitude', y='Latitude', text = 'Address', x_offset = 5, y_offset = 5, source = source)\n",
    "p.add_layout(labels)\n",
    "show(p)"
   ]
  },
  {
   "cell_type": "code",
   "execution_count": null,
   "metadata": {},
   "outputs": [],
   "source": [
    "https://programminghistorian.org/en/lessons/visualizing-with-bokeh"
   ]
  },
  {
   "cell_type": "code",
   "execution_count": null,
   "metadata": {},
   "outputs": [],
   "source": [
    "from bokeh.io import output_file, show\n",
    "from bokeh.models import ColumnDataSource, GMapOptions\n",
    "from bokeh.plotting import gmap\n",
    "\n",
    "output_file(\"gmap.html\")\n",
    "\n",
    "map_options = GMapOptions(lat=48.5112, lng=2.2055, map_type=\"roadmap\", zoom=11)\n",
    "\n",
    "# For GMaps to function, Google requires you obtain and enable an API key:\n",
    "#\n",
    "#     https://developers.google.com/maps/documentation/javascript/get-api-key\n",
    "#\n",
    "# Replace the value below with your personal API key:\n",
    "p = gmap(\"GOOGLE_API_KEY\", map_options, title=\"Austin\")\n",
    "\n",
    "source = ColumnDataSource(\n",
    "    data=dict(lat=[ 30.29,  30.20,  30.29],\n",
    "              lon=[-97.70, -97.74, -97.78])\n",
    ")\n",
    "\n",
    "p.circle(x=\"lon\", y=\"lat\", size=15, fill_color=\"blue\", fill_alpha=0.8, source=source)\n",
    "\n",
    "show(p)"
   ]
  },
  {
   "cell_type": "code",
   "execution_count": null,
   "metadata": {},
   "outputs": [],
   "source": [
    "#Geopanda à tester\n",
    "https://towardsdatascience.com/geopandas-101-plot-any-data-with-a-latitude-and-longitude-on-a-map-98e01944b972"
   ]
  },
  {
   "cell_type": "code",
   "execution_count": null,
   "metadata": {},
   "outputs": [],
   "source": []
  },
  {
   "cell_type": "code",
   "execution_count": null,
   "metadata": {},
   "outputs": [],
   "source": [
    "#Il faut changer coord en mercator\n",
    "def y2lat(y):\n",
    "    return math.degrees(2 * math.atan(math.exp (y / R)) - math.pi / 2.0)\n",
    "def x2lng(x):\n",
    "    return math.degrees(x / R)"
   ]
  }
 ],
 "metadata": {
  "kernelspec": {
   "display_name": "Python 3",
   "language": "python",
   "name": "python3"
  },
  "language_info": {
   "codemirror_mode": {
    "name": "ipython",
    "version": 3
   },
   "file_extension": ".py",
   "mimetype": "text/x-python",
   "name": "python",
   "nbconvert_exporter": "python",
   "pygments_lexer": "ipython3",
   "version": "3.8.5"
  }
 },
 "nbformat": 4,
 "nbformat_minor": 4
}
