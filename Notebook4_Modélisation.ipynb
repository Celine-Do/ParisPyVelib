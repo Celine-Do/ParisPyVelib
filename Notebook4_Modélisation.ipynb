{
 "cells": [
  {
   "cell_type": "code",
   "execution_count": 1,
   "metadata": {},
   "outputs": [
    {
     "name": "stdout",
     "output_type": "stream",
     "text": [
      "C:\\Users\\Home\\Documents\\Git\\ParisPyVelib\\Data\n"
     ]
    }
   ],
   "source": [
    "# Import library:\n",
    "import pandas as pd\n",
    "import numpy as np\n",
    "import matplotlib.pyplot as plt\n",
    "%matplotlib inline \n",
    "import seaborn as sns\n",
    "\n",
    "# Définition du chemin d'accès:\n",
    "### Céline\n",
    "# %cd C:\\Users\\c.doussot\\Desktop\\Data Analyst\\GitHub\\ParisPyVelib_Datas\n",
    "### Hermine\n",
    "\n",
    "### Tarik\n",
    "%cd C:\\Users\\Home\\Documents\\Git\\ParisPyVelib\\Data\n",
    "\n",
    "#Drive + Colab\n",
    "# from google.colab import drive\n",
    "# drive.mount('/gdrive')\n",
    "# %cd /gdrive/My Drive/Colab Notebooks/"
   ]
  },
  {
   "cell_type": "markdown",
   "metadata": {},
   "source": [
    "- Une idée serait de faire la modélisation sur les comptages horaires moyen par jour et non par heure. Cela simplifiera le nombre de données et permettra d'intégrer facilement les données météos."
   ]
  },
  {
   "cell_type": "markdown",
   "metadata": {},
   "source": [
    "## Préparation des données"
   ]
  },
  {
   "cell_type": "code",
   "execution_count": 2,
   "metadata": {},
   "outputs": [],
   "source": [
    "df = pd.read_csv('2018-2021_donnees-velib-meteo_hour.csv')"
   ]
  },
  {
   "cell_type": "code",
   "execution_count": 3,
   "metadata": {},
   "outputs": [],
   "source": [
    "# etendue des valeurs pour les na\n",
    "df = df.fillna(method=\"ffill\")\n",
    "df = df.fillna(method=\"bfill\")"
   ]
  },
  {
   "cell_type": "code",
   "execution_count": 4,
   "metadata": {},
   "outputs": [
    {
     "data": {
      "text/html": [
       "<div>\n",
       "<style scoped>\n",
       "    .dataframe tbody tr th:only-of-type {\n",
       "        vertical-align: middle;\n",
       "    }\n",
       "\n",
       "    .dataframe tbody tr th {\n",
       "        vertical-align: top;\n",
       "    }\n",
       "\n",
       "    .dataframe thead th {\n",
       "        text-align: right;\n",
       "    }\n",
       "</style>\n",
       "<table border=\"1\" class=\"dataframe\">\n",
       "  <thead>\n",
       "    <tr style=\"text-align: right;\">\n",
       "      <th></th>\n",
       "      <th>Count_by_hour</th>\n",
       "      <th>Latitude</th>\n",
       "      <th>Longitude</th>\n",
       "      <th>Y_Date_Count</th>\n",
       "      <th>M_Date_Count</th>\n",
       "      <th>D_Date_Count</th>\n",
       "      <th>Dweek_Date_Count</th>\n",
       "      <th>T°C</th>\n",
       "      <th>Precip_last3h</th>\n",
       "      <th>HR%</th>\n",
       "      <th>...</th>\n",
       "      <th>nom_vacances_Pont de l'Ascension</th>\n",
       "      <th>nom_vacances_Vacances d'hiver</th>\n",
       "      <th>nom_vacances_Vacances de Noël</th>\n",
       "      <th>nom_vacances_Vacances de printemps</th>\n",
       "      <th>Confinement_id_Confinement 3</th>\n",
       "      <th>Confinement_id_None</th>\n",
       "      <th>AM_PM_AM</th>\n",
       "      <th>AM_PM_PM</th>\n",
       "      <th>week_day_type_week</th>\n",
       "      <th>week_day_type_weekend</th>\n",
       "    </tr>\n",
       "  </thead>\n",
       "  <tbody>\n",
       "    <tr>\n",
       "      <th>0</th>\n",
       "      <td>1.0</td>\n",
       "      <td>48.878</td>\n",
       "      <td>2.355</td>\n",
       "      <td>2021</td>\n",
       "      <td>1</td>\n",
       "      <td>1</td>\n",
       "      <td>4</td>\n",
       "      <td>1.1</td>\n",
       "      <td>0.0</td>\n",
       "      <td>92.0</td>\n",
       "      <td>...</td>\n",
       "      <td>0</td>\n",
       "      <td>0</td>\n",
       "      <td>1</td>\n",
       "      <td>0</td>\n",
       "      <td>0</td>\n",
       "      <td>1</td>\n",
       "      <td>1</td>\n",
       "      <td>0</td>\n",
       "      <td>1</td>\n",
       "      <td>0</td>\n",
       "    </tr>\n",
       "    <tr>\n",
       "      <th>1</th>\n",
       "      <td>6.0</td>\n",
       "      <td>48.878</td>\n",
       "      <td>2.355</td>\n",
       "      <td>2021</td>\n",
       "      <td>1</td>\n",
       "      <td>1</td>\n",
       "      <td>4</td>\n",
       "      <td>-0.4</td>\n",
       "      <td>0.0</td>\n",
       "      <td>96.0</td>\n",
       "      <td>...</td>\n",
       "      <td>0</td>\n",
       "      <td>0</td>\n",
       "      <td>1</td>\n",
       "      <td>0</td>\n",
       "      <td>0</td>\n",
       "      <td>1</td>\n",
       "      <td>1</td>\n",
       "      <td>0</td>\n",
       "      <td>1</td>\n",
       "      <td>0</td>\n",
       "    </tr>\n",
       "    <tr>\n",
       "      <th>2</th>\n",
       "      <td>5.0</td>\n",
       "      <td>48.878</td>\n",
       "      <td>2.355</td>\n",
       "      <td>2021</td>\n",
       "      <td>1</td>\n",
       "      <td>1</td>\n",
       "      <td>4</td>\n",
       "      <td>-0.4</td>\n",
       "      <td>0.0</td>\n",
       "      <td>96.0</td>\n",
       "      <td>...</td>\n",
       "      <td>0</td>\n",
       "      <td>0</td>\n",
       "      <td>1</td>\n",
       "      <td>0</td>\n",
       "      <td>0</td>\n",
       "      <td>1</td>\n",
       "      <td>1</td>\n",
       "      <td>0</td>\n",
       "      <td>1</td>\n",
       "      <td>0</td>\n",
       "    </tr>\n",
       "    <tr>\n",
       "      <th>3</th>\n",
       "      <td>7.0</td>\n",
       "      <td>48.878</td>\n",
       "      <td>2.355</td>\n",
       "      <td>2021</td>\n",
       "      <td>1</td>\n",
       "      <td>1</td>\n",
       "      <td>4</td>\n",
       "      <td>-0.4</td>\n",
       "      <td>0.0</td>\n",
       "      <td>96.0</td>\n",
       "      <td>...</td>\n",
       "      <td>0</td>\n",
       "      <td>0</td>\n",
       "      <td>1</td>\n",
       "      <td>0</td>\n",
       "      <td>0</td>\n",
       "      <td>1</td>\n",
       "      <td>1</td>\n",
       "      <td>0</td>\n",
       "      <td>1</td>\n",
       "      <td>0</td>\n",
       "    </tr>\n",
       "    <tr>\n",
       "      <th>4</th>\n",
       "      <td>6.0</td>\n",
       "      <td>48.878</td>\n",
       "      <td>2.355</td>\n",
       "      <td>2021</td>\n",
       "      <td>1</td>\n",
       "      <td>1</td>\n",
       "      <td>4</td>\n",
       "      <td>-1.9</td>\n",
       "      <td>0.0</td>\n",
       "      <td>98.0</td>\n",
       "      <td>...</td>\n",
       "      <td>0</td>\n",
       "      <td>0</td>\n",
       "      <td>1</td>\n",
       "      <td>0</td>\n",
       "      <td>0</td>\n",
       "      <td>1</td>\n",
       "      <td>1</td>\n",
       "      <td>0</td>\n",
       "      <td>1</td>\n",
       "      <td>0</td>\n",
       "    </tr>\n",
       "  </tbody>\n",
       "</table>\n",
       "<p>5 rows × 32 columns</p>\n",
       "</div>"
      ],
      "text/plain": [
       "   Count_by_hour  Latitude  Longitude  Y_Date_Count  M_Date_Count  \\\n",
       "0            1.0    48.878      2.355          2021             1   \n",
       "1            6.0    48.878      2.355          2021             1   \n",
       "2            5.0    48.878      2.355          2021             1   \n",
       "3            7.0    48.878      2.355          2021             1   \n",
       "4            6.0    48.878      2.355          2021             1   \n",
       "\n",
       "   D_Date_Count  Dweek_Date_Count  T°C  Precip_last3h   HR%  ...  \\\n",
       "0             1                 4  1.1            0.0  92.0  ...   \n",
       "1             1                 4 -0.4            0.0  96.0  ...   \n",
       "2             1                 4 -0.4            0.0  96.0  ...   \n",
       "3             1                 4 -0.4            0.0  96.0  ...   \n",
       "4             1                 4 -1.9            0.0  98.0  ...   \n",
       "\n",
       "   nom_vacances_Pont de l'Ascension  nom_vacances_Vacances d'hiver  \\\n",
       "0                                 0                              0   \n",
       "1                                 0                              0   \n",
       "2                                 0                              0   \n",
       "3                                 0                              0   \n",
       "4                                 0                              0   \n",
       "\n",
       "   nom_vacances_Vacances de Noël  nom_vacances_Vacances de printemps  \\\n",
       "0                              1                                   0   \n",
       "1                              1                                   0   \n",
       "2                              1                                   0   \n",
       "3                              1                                   0   \n",
       "4                              1                                   0   \n",
       "\n",
       "   Confinement_id_Confinement 3  Confinement_id_None  AM_PM_AM  AM_PM_PM  \\\n",
       "0                             0                    1         1         0   \n",
       "1                             0                    1         1         0   \n",
       "2                             0                    1         1         0   \n",
       "3                             0                    1         1         0   \n",
       "4                             0                    1         1         0   \n",
       "\n",
       "   week_day_type_week  week_day_type_weekend  \n",
       "0                   1                      0  \n",
       "1                   1                      0  \n",
       "2                   1                      0  \n",
       "3                   1                      0  \n",
       "4                   1                      0  \n",
       "\n",
       "[5 rows x 32 columns]"
      ]
     },
     "execution_count": 4,
     "metadata": {},
     "output_type": "execute_result"
    }
   ],
   "source": [
    "# selection d'un seul compteur et uniquement pour l'année 2021\n",
    "df = df[df.Address == \"89 BD DE MAGENTA\"]\n",
    "df = df[df.Y_Date_Count == 2021 ]\n",
    "\n",
    "# supression des colonnes non utile pour le modele\n",
    "# df = df.drop(['Unnamed: 0', 'Coord', 'Coord_full', 'City_meteo', 'Latitude', 'Longitude', 'vacances_zone_c', 'Address', \n",
    "#               'Direction', 'Source', 'Id', 'Date_instal'], axis = 1)\n",
    "\n",
    "df = df.drop(['Unnamed: 0', 'Coord', 'City_meteo', 'vacances_zone_c', 'Address', 'Date',\n",
    "              'Source', 'Id', 'Y_Date_Instal', 'M_Date_Instal', 'D_Date_Instal', 'Date_instal', 'H_Date_Count'], axis = 1)\n",
    "\n",
    "# passage de la colonne date en datetime et passage en ms\n",
    "# df['Date'] = pd.to_datetime(df['Date'], format = '%Y-%m-%dT%H:%M:%S')\n",
    "# df['Date'] = df.Date.astype('int64') // 10**9      # réciproque : df['Date'] = pd.to_datetime(df['Date'], unit='s')\n",
    "\n",
    "#split des colonne de date et heure\n",
    "df[['Date','Time']] = df['Datetime'].str.split(' ',expand=True)\n",
    "df = df.drop(['Date'], axis=1)\n",
    "df[['hh','mm', 'ss' ]] = df['Time'].str.split(':',expand=True)\n",
    "df = df.drop(['Time','Datetime', 'mm', 'ss'], axis=1)\n",
    "df['hh'] = df.hh.astype('int64')\n",
    "\n",
    "# Ajout de la variable AP et PM\n",
    "df['AM_PM'] = ['AM' if x < 12 else 'PM' for x in df['hh']]\n",
    "\n",
    "# Ajout de la variable weekend et week\n",
    "df['week_day_type'] = ['week' if x < 5 else 'weekend' for x in df['Dweek_Date_Count']]\n",
    "\n",
    "# reset de l'index\n",
    "df = df.reset_index(drop=True)\n",
    "\n",
    "# list des variable catégorielle\n",
    "cat_df = df.select_dtypes(include='object')\n",
    "cat_df = cat_df.columns.tolist()\n",
    "\n",
    "# Transformation des variable catégorielle en variable indicatrices\n",
    "df = pd.get_dummies(df, columns=cat_df)\n",
    "\n",
    "# affichage des 5 première lignes du df\n",
    "df.head()"
   ]
  },
  {
   "cell_type": "code",
   "execution_count": 5,
   "metadata": {},
   "outputs": [],
   "source": [
    "# selection de la target et des feats\n",
    "target = df['Count_by_hour']\n",
    "feats = df.drop(['Count_by_hour'], axis=1)"
   ]
  },
  {
   "cell_type": "code",
   "execution_count": 6,
   "metadata": {},
   "outputs": [
    {
     "name": "stdout",
     "output_type": "stream",
     "text": [
      "<class 'pandas.core.frame.DataFrame'>\n",
      "RangeIndex: 3575 entries, 0 to 3574\n",
      "Data columns (total 31 columns):\n",
      " #   Column                              Non-Null Count  Dtype  \n",
      "---  ------                              --------------  -----  \n",
      " 0   Latitude                            3575 non-null   float64\n",
      " 1   Longitude                           3575 non-null   float64\n",
      " 2   Y_Date_Count                        3575 non-null   int64  \n",
      " 3   M_Date_Count                        3575 non-null   int64  \n",
      " 4   D_Date_Count                        3575 non-null   int64  \n",
      " 5   Dweek_Date_Count                    3575 non-null   int64  \n",
      " 6   T°C                                 3575 non-null   float64\n",
      " 7   Precip_last3h                       3575 non-null   float64\n",
      " 8   HR%                                 3575 non-null   float64\n",
      " 9   High_ice                            3575 non-null   float64\n",
      " 10  Wind_speed_mean10mn                 3575 non-null   float64\n",
      " 11  hh                                  3575 non-null   int64  \n",
      " 12  Direction_NO-SE                     3575 non-null   uint8  \n",
      " 13  nom_jour_ferie_1er janvier          3575 non-null   uint8  \n",
      " 14  nom_jour_ferie_1er mai              3575 non-null   uint8  \n",
      " 15  nom_jour_ferie_8 mai                3575 non-null   uint8  \n",
      " 16  nom_jour_ferie_Ascension            3575 non-null   uint8  \n",
      " 17  nom_jour_ferie_Lundi de Pentecôte   3575 non-null   uint8  \n",
      " 18  nom_jour_ferie_Lundi de Pâques      3575 non-null   uint8  \n",
      " 19  nom_jour_ferie_None                 3575 non-null   uint8  \n",
      " 20  nom_vacances_None                   3575 non-null   uint8  \n",
      " 21  nom_vacances_Pont de l'Ascension    3575 non-null   uint8  \n",
      " 22  nom_vacances_Vacances d'hiver       3575 non-null   uint8  \n",
      " 23  nom_vacances_Vacances de Noël       3575 non-null   uint8  \n",
      " 24  nom_vacances_Vacances de printemps  3575 non-null   uint8  \n",
      " 25  Confinement_id_Confinement 3        3575 non-null   uint8  \n",
      " 26  Confinement_id_None                 3575 non-null   uint8  \n",
      " 27  AM_PM_AM                            3575 non-null   uint8  \n",
      " 28  AM_PM_PM                            3575 non-null   uint8  \n",
      " 29  week_day_type_week                  3575 non-null   uint8  \n",
      " 30  week_day_type_weekend               3575 non-null   uint8  \n",
      "dtypes: float64(7), int64(5), uint8(19)\n",
      "memory usage: 401.6 KB\n"
     ]
    }
   ],
   "source": [
    "# vérification du type des variables pour feats\n",
    "\n",
    "feats.info()"
   ]
  },
  {
   "cell_type": "code",
   "execution_count": 7,
   "metadata": {},
   "outputs": [
    {
     "data": {
      "text/plain": [
       "0       (-0.001, 19.0]\n",
       "1       (-0.001, 19.0]\n",
       "2       (-0.001, 19.0]\n",
       "3       (-0.001, 19.0]\n",
       "4       (-0.001, 19.0]\n",
       "             ...      \n",
       "3570    (227.0, 585.0]\n",
       "3571    (227.0, 585.0]\n",
       "3572    (119.0, 227.0]\n",
       "3573     (19.0, 119.0]\n",
       "3574     (19.0, 119.0]\n",
       "Name: Count_by_hour, Length: 3575, dtype: category\n",
       "Categories (4, interval[float64]): [(-0.001, 19.0] < (19.0, 119.0] < (119.0, 227.0] < (227.0, 585.0]]"
      ]
     },
     "execution_count": 7,
     "metadata": {},
     "output_type": "execute_result"
    }
   ],
   "source": [
    "# On récupère les valeurs de classes\n",
    "pd.qcut(target, 4)\n",
    "# [(-0.001, 19.0] < (19.0, 119.0] < (119.0, 227.0] < (227.0, 585.0]]"
   ]
  },
  {
   "cell_type": "code",
   "execution_count": 8,
   "metadata": {},
   "outputs": [],
   "source": [
    "target = pd.qcut(target, 4, labels = [0, 1, 2, 3])"
   ]
  },
  {
   "cell_type": "code",
   "execution_count": 9,
   "metadata": {},
   "outputs": [],
   "source": [
    "# Séparation du jeux de donnée pour entrainement\n",
    "\n",
    "from sklearn.model_selection import train_test_split\n",
    "\n",
    "X_train, X_test, y_train, y_test = train_test_split(feats, target, test_size=0.2, random_state=101)"
   ]
  },
  {
   "cell_type": "code",
   "execution_count": 10,
   "metadata": {},
   "outputs": [],
   "source": [
    "# preprocessing\n",
    "\n",
    "from sklearn import preprocessing\n",
    "\n",
    "scaler = preprocessing.StandardScaler().fit(X_train)\n",
    "# X_train_scaled = scaler.transform(X_train)\n",
    "# X_test_scaled = scaler.transform(X_test)\n",
    "\n",
    "X_train_scaled = X_train\n",
    "X_test_scaled = X_test"
   ]
  },
  {
   "cell_type": "markdown",
   "metadata": {},
   "source": [
    "## SVM"
   ]
  },
  {
   "cell_type": "code",
   "execution_count": 11,
   "metadata": {},
   "outputs": [
    {
     "name": "stdout",
     "output_type": "stream",
     "text": [
      "                           params  mean_test_score\n",
      "0     {'C': 0.1, 'kernel': 'rbf'}         0.259790\n",
      "1  {'C': 0.1, 'kernel': 'linear'}         0.567483\n",
      "2       {'C': 1, 'kernel': 'rbf'}         0.259790\n",
      "3    {'C': 1, 'kernel': 'linear'}         0.573776\n",
      "4      {'C': 10, 'kernel': 'rbf'}         0.377972\n",
      "5   {'C': 10, 'kernel': 'linear'}         0.561538\n",
      "6      {'C': 50, 'kernel': 'rbf'}         0.442657\n",
      "7   {'C': 50, 'kernel': 'linear'}         0.560490\n",
      "Le modèle qui fournit la meilleur prédiction à pour paramètres : {'C': 1, 'kernel': 'linear'}\n"
     ]
    }
   ],
   "source": [
    "from sklearn import svm\n",
    "\n",
    "# Création d'un classifieur clf sans paramètres\n",
    "clf = svm.SVC()\n",
    "# Entrainement de l'algorithme sur l'ensemble d'entrainement\n",
    "clf.fit(X_train_scaled, y_train)\n",
    "\n",
    "from sklearn import model_selection\n",
    "\n",
    "# Recherche des meilleurs hyperparamètres\n",
    "\n",
    "parametres = {'C':[0.1,1,10,50], 'kernel':['rbf','linear']}\n",
    "grid_clf = model_selection.GridSearchCV(estimator=clf, param_grid=parametres)\n",
    "grille = grid_clf.fit(X_train_scaled,y_train)\n",
    "\n",
    "print(pd.DataFrame.from_dict(grille.cv_results_).loc[:,['params', 'mean_test_score']])\n",
    "print('Le modèle qui fournit la meilleur prédiction à pour paramètres :',grid_clf.best_params_)"
   ]
  },
  {
   "cell_type": "code",
   "execution_count": 12,
   "metadata": {},
   "outputs": [
    {
     "data": {
      "text/html": [
       "<div>\n",
       "<style scoped>\n",
       "    .dataframe tbody tr th:only-of-type {\n",
       "        vertical-align: middle;\n",
       "    }\n",
       "\n",
       "    .dataframe tbody tr th {\n",
       "        vertical-align: top;\n",
       "    }\n",
       "\n",
       "    .dataframe thead th {\n",
       "        text-align: right;\n",
       "    }\n",
       "</style>\n",
       "<table border=\"1\" class=\"dataframe\">\n",
       "  <thead>\n",
       "    <tr style=\"text-align: right;\">\n",
       "      <th>Classe prédite</th>\n",
       "      <th>0</th>\n",
       "      <th>1</th>\n",
       "      <th>2</th>\n",
       "      <th>3</th>\n",
       "    </tr>\n",
       "    <tr>\n",
       "      <th>Classe réelle</th>\n",
       "      <th></th>\n",
       "      <th></th>\n",
       "      <th></th>\n",
       "      <th></th>\n",
       "    </tr>\n",
       "  </thead>\n",
       "  <tbody>\n",
       "    <tr>\n",
       "      <th>0</th>\n",
       "      <td>142</td>\n",
       "      <td>22</td>\n",
       "      <td>0</td>\n",
       "      <td>7</td>\n",
       "    </tr>\n",
       "    <tr>\n",
       "      <th>1</th>\n",
       "      <td>43</td>\n",
       "      <td>89</td>\n",
       "      <td>26</td>\n",
       "      <td>12</td>\n",
       "    </tr>\n",
       "    <tr>\n",
       "      <th>2</th>\n",
       "      <td>7</td>\n",
       "      <td>67</td>\n",
       "      <td>65</td>\n",
       "      <td>51</td>\n",
       "    </tr>\n",
       "    <tr>\n",
       "      <th>3</th>\n",
       "      <td>11</td>\n",
       "      <td>35</td>\n",
       "      <td>36</td>\n",
       "      <td>102</td>\n",
       "    </tr>\n",
       "  </tbody>\n",
       "</table>\n",
       "</div>"
      ],
      "text/plain": [
       "Classe prédite    0   1   2    3\n",
       "Classe réelle                   \n",
       "0               142  22   0    7\n",
       "1                43  89  26   12\n",
       "2                 7  67  65   51\n",
       "3                11  35  36  102"
      ]
     },
     "execution_count": 12,
     "metadata": {},
     "output_type": "execute_result"
    }
   ],
   "source": [
    "# Prédiction des features test et création de la matrice de confusion\n",
    "\n",
    "clf = svm.SVC(C=1, kernel='linear')\n",
    "clf.fit(X_train_scaled, y_train)\n",
    "\n",
    "y_pred = grid_clf.predict(X_test_scaled)\n",
    "pd.crosstab(y_test, y_pred, rownames=['Classe réelle'], colnames=['Classe prédite'])"
   ]
  },
  {
   "cell_type": "markdown",
   "metadata": {},
   "source": [
    "Le modèle n'est pas satisfaisant pour obtenir une prédiction précise"
   ]
  },
  {
   "cell_type": "markdown",
   "metadata": {},
   "source": [
    "## KNN"
   ]
  },
  {
   "cell_type": "code",
   "execution_count": 13,
   "metadata": {},
   "outputs": [
    {
     "data": {
      "image/png": "[encoded data removed]",
      "text/plain": [
       "<Figure size 1152x432 with 1 Axes>"
      ]
     },
     "metadata": {
      "needs_background": "light"
     },
     "output_type": "display_data"
    }
   ],
   "source": [
    "from sklearn import neighbors\n",
    "\n",
    "score=[]\n",
    "\n",
    "for k in range(2, 51):\n",
    "    knn = neighbors.KNeighborsClassifier(n_neighbors=k)\n",
    "    knn.fit(X_train_scaled, y_train)\n",
    "    score.append(knn.score(X_test_scaled, y_test))\n",
    "\n",
    "\n",
    "plt.figure(figsize=(16,6))\n",
    "plt.plot(range(2, 51), score, color='blue')\n",
    "plt.title('Score - valeur de K')  \n",
    "plt.xlabel('Valeur de K')  \n",
    "plt.ylabel('Accuracy')\n",
    "plt.grid();"
   ]
  },
  {
   "cell_type": "markdown",
   "metadata": {},
   "source": [
    "Précision meilleur que SVM mais pas assez précis pour avoir des prédiction correcte"
   ]
  },
  {
   "cell_type": "markdown",
   "metadata": {},
   "source": [
    "## Random Forest"
   ]
  },
  {
   "cell_type": "code",
   "execution_count": 14,
   "metadata": {},
   "outputs": [
    {
     "data": {
      "text/plain": [
       "RandomForestClassifier()"
      ]
     },
     "execution_count": 14,
     "metadata": {},
     "output_type": "execute_result"
    }
   ],
   "source": [
    "from sklearn import ensemble\n",
    "from sklearn import model_selection\n",
    "\n",
    "# Création d'un classifieur\n",
    "clf = ensemble.RandomForestClassifier()\n",
    "clf.fit(X_train_scaled, y_train)"
   ]
  },
  {
   "cell_type": "code",
   "execution_count": 15,
   "metadata": {},
   "outputs": [
    {
     "name": "stdout",
     "output_type": "stream",
     "text": [
      "                                             params  mean_test_score\n",
      "0    {'max_features': None, 'min_samples_split': 2}         0.821329\n",
      "1    {'max_features': None, 'min_samples_split': 4}         0.825175\n",
      "2    {'max_features': None, 'min_samples_split': 6}         0.821678\n",
      "3    {'max_features': None, 'min_samples_split': 8}         0.822378\n",
      "4   {'max_features': None, 'min_samples_split': 10}         0.822727\n",
      "5   {'max_features': None, 'min_samples_split': 12}         0.823077\n",
      "6   {'max_features': None, 'min_samples_split': 14}         0.825874\n",
      "7   {'max_features': None, 'min_samples_split': 16}         0.822028\n",
      "8   {'max_features': None, 'min_samples_split': 18}         0.826923\n",
      "9   {'max_features': None, 'min_samples_split': 20}         0.823776\n",
      "10  {'max_features': None, 'min_samples_split': 22}         0.829371\n",
      "11  {'max_features': None, 'min_samples_split': 24}         0.825175\n",
      "12  {'max_features': None, 'min_samples_split': 26}         0.818531\n",
      "13  {'max_features': None, 'min_samples_split': 28}         0.824126\n",
      "14  {'max_features': None, 'min_samples_split': 30}         0.819580\n",
      "Le modèle qui fournit la meilleur prédiction à pour paramètres : {'max_features': None, 'min_samples_split': 22}\n"
     ]
    }
   ],
   "source": [
    "# parametres = {'max_features':[\"sqrt\", \"log2\", None], 'min_samples_split':list(range(2, 32, 2))}\n",
    "parametres = {'max_features':[None], 'min_samples_split':list(range(2, 32, 2))}\n",
    "\n",
    "grid_clf = model_selection.GridSearchCV(estimator=clf, param_grid=parametres)\n",
    "\n",
    "grille = grid_clf.fit(X_train_scaled,y_train)\n",
    "\n",
    "print(pd.DataFrame.from_dict(grille.cv_results_).loc[:,['params', 'mean_test_score']])\n",
    "print('Le modèle qui fournit la meilleur prédiction à pour paramètres :',grid_clf.best_params_)"
   ]
  },
  {
   "cell_type": "code",
   "execution_count": 16,
   "metadata": {},
   "outputs": [
    {
     "data": {
      "text/html": [
       "<div>\n",
       "<style scoped>\n",
       "    .dataframe tbody tr th:only-of-type {\n",
       "        vertical-align: middle;\n",
       "    }\n",
       "\n",
       "    .dataframe tbody tr th {\n",
       "        vertical-align: top;\n",
       "    }\n",
       "\n",
       "    .dataframe thead th {\n",
       "        text-align: right;\n",
       "    }\n",
       "</style>\n",
       "<table border=\"1\" class=\"dataframe\">\n",
       "  <thead>\n",
       "    <tr style=\"text-align: right;\">\n",
       "      <th>Classe prédite</th>\n",
       "      <th>0</th>\n",
       "      <th>1</th>\n",
       "      <th>2</th>\n",
       "      <th>3</th>\n",
       "    </tr>\n",
       "    <tr>\n",
       "      <th>Classe réelle</th>\n",
       "      <th></th>\n",
       "      <th></th>\n",
       "      <th></th>\n",
       "      <th></th>\n",
       "    </tr>\n",
       "  </thead>\n",
       "  <tbody>\n",
       "    <tr>\n",
       "      <th>0</th>\n",
       "      <td>157</td>\n",
       "      <td>14</td>\n",
       "      <td>0</td>\n",
       "      <td>0</td>\n",
       "    </tr>\n",
       "    <tr>\n",
       "      <th>1</th>\n",
       "      <td>7</td>\n",
       "      <td>145</td>\n",
       "      <td>18</td>\n",
       "      <td>0</td>\n",
       "    </tr>\n",
       "    <tr>\n",
       "      <th>2</th>\n",
       "      <td>0</td>\n",
       "      <td>15</td>\n",
       "      <td>143</td>\n",
       "      <td>32</td>\n",
       "    </tr>\n",
       "    <tr>\n",
       "      <th>3</th>\n",
       "      <td>0</td>\n",
       "      <td>0</td>\n",
       "      <td>29</td>\n",
       "      <td>155</td>\n",
       "    </tr>\n",
       "  </tbody>\n",
       "</table>\n",
       "</div>"
      ],
      "text/plain": [
       "Classe prédite    0    1    2    3\n",
       "Classe réelle                     \n",
       "0               157   14    0    0\n",
       "1                 7  145   18    0\n",
       "2                 0   15  143   32\n",
       "3                 0    0   29  155"
      ]
     },
     "execution_count": 16,
     "metadata": {},
     "output_type": "execute_result"
    }
   ],
   "source": [
    "# Prédiction des features test et création de la matrice de confusion\n",
    "\n",
    "clf = ensemble.RandomForestClassifier(min_samples_split=14)\n",
    "clf.fit(X_train_scaled, y_train)\n",
    "\n",
    "y_pred = grid_clf.predict(X_test_scaled)\n",
    "pd.crosstab(y_test, y_pred, rownames=['Classe réelle'], colnames=['Classe prédite'])"
   ]
  },
  {
   "cell_type": "markdown",
   "metadata": {},
   "source": [
    "Le modèle à une meilleur précision > 80% pour le moment c'est suffisant"
   ]
  },
  {
   "cell_type": "markdown",
   "metadata": {},
   "source": [
    "## Prédiction avec Random Forest"
   ]
  },
  {
   "cell_type": "code",
   "execution_count": 17,
   "metadata": {},
   "outputs": [],
   "source": [
    "import ipywidgets as widgets\n",
    "from IPython.display import display\n",
    "\n",
    "Month = widgets.IntSlider(value=2,\n",
    "    min=1,\n",
    "    max=12,\n",
    "    step=1,\n",
    "    description='Month :',\n",
    "    disabled=False,\n",
    "    continuous_update=False,\n",
    "    orientation='horizontal',\n",
    "    readout=True,\n",
    "    readout_format='d', layout=widgets.Layout(width='100%'))\n",
    "\n",
    "Day = widgets.IntSlider(value=2,\n",
    "    min=1,\n",
    "    max=31,\n",
    "    step=1,\n",
    "    description='Day :',\n",
    "    disabled=False,\n",
    "    continuous_update=False,\n",
    "    orientation='horizontal',\n",
    "    readout=True,\n",
    "    readout_format='d', layout=widgets.Layout(width='100%'))"
   ]
  },
  {
   "cell_type": "code",
   "execution_count": 18,
   "metadata": {},
   "outputs": [
    {
     "data": {
      "image/png": "[encoded data removed]",
      "text/plain": [
       "<Figure size 1152x504 with 1 Axes>"
      ]
     },
     "metadata": {
      "needs_background": "light"
     },
     "output_type": "display_data"
    }
   ],
   "source": [
    "# selection de la date\n",
    "df_Select = df[df.M_Date_Count == Month.value]\n",
    "df_Select = df_Select[df_Select.D_Date_Count == Day.value]\n",
    "\n",
    "# selection de la target et des feats\n",
    "target_to_predict = df_Select['Count_by_hour']\n",
    "feats_to_predict = df_Select.drop(['Count_by_hour'], axis=1)\n",
    "\n",
    "# Calul des prédiction\n",
    "prediction = clf.predict(feats_to_predict)\n",
    "\n",
    "# création d'une liste avec les moyennes des classes et remplacement des moyennes dans le resultat des prédictions\n",
    "lmc = [9.5, 69, 173, 406]\n",
    "lmin = [0, 19, 119, 227]\n",
    "lmax = [19, 119, 227, 585]\n",
    "pred = []\n",
    "pred_min = []\n",
    "pred_max = []\n",
    "\n",
    "for classes in prediction:\n",
    "    if classes == 0:\n",
    "        pred.append(lmc[0])\n",
    "        pred_min.append(lmin[0])\n",
    "        pred_max.append(lmax[0])\n",
    "    if classes == 1:\n",
    "        pred.append(lmc[1])\n",
    "        pred_min.append(lmin[1])\n",
    "        pred_max.append(lmax[1])\n",
    "    if classes == 2:\n",
    "        pred.append(lmc[2])\n",
    "        pred_min.append(lmin[2])\n",
    "        pred_max.append(lmax[2])\n",
    "    if classes == 3:\n",
    "        pred.append(lmc[3]) \n",
    "        pred_min.append(lmin[3])\n",
    "        pred_max.append(lmax[3])\n",
    "        \n",
    "# Graphique du compteur et des prédiction      \n",
    "plt.figure(figsize=(16,7))\n",
    "# graph du compteur horaire\n",
    "plt.plot(df_Select['hh'],df_Select['Count_by_hour'],color='black')\n",
    "plt.scatter(df_Select['hh'],df_Select['Count_by_hour'],color='black')\n",
    "# graph des prédiction\n",
    "plt.plot(df_Select['hh'], pred, color='red')\n",
    "plt.scatter(df_Select['hh'], pred, color='red')\n",
    "\n",
    "plt.fill_between(df_Select['hh'], pred_min, pred_max, alpha=0.1, color=\"blue\")\n",
    "\n",
    "plt.xlabel('Heure')\n",
    "plt.ylabel('nb de velo')\n",
    "plt.legend(['target : Count_by_hour', 'Prediction : Mean Count_by_hour'])\n",
    "\n",
    "plt.grid();"
   ]
  },
  {
   "cell_type": "code",
   "execution_count": 19,
   "metadata": {},
   "outputs": [
    {
     "data": {
      "application/vnd.jupyter.widget-view+json": {
       "model_id": "74e9af600ebb4d848f5e633a3aa3b902",
       "version_major": 2,
       "version_minor": 0
      },
      "text/plain": [
       "IntSlider(value=2, continuous_update=False, description='Month :', layout=Layout(width='100%'), max=12, min=1)"
      ]
     },
     "metadata": {},
     "output_type": "display_data"
    },
    {
     "data": {
      "application/vnd.jupyter.widget-view+json": {
       "model_id": "3c030639ea514ad0bb155e4ac59478ba",
       "version_major": 2,
       "version_minor": 0
      },
      "text/plain": [
       "IntSlider(value=2, continuous_update=False, description='Day :', layout=Layout(width='100%'), max=31, min=1)"
      ]
     },
     "metadata": {},
     "output_type": "display_data"
    }
   ],
   "source": [
    "display(Month, Day)"
   ]
  },
  {
   "cell_type": "markdown",
   "metadata": {},
   "source": [
    "## Conclusion : "
   ]
  },
  {
   "cell_type": "markdown",
   "metadata": {},
   "source": [
    "Le modèle ramdom forest nous donnes des performances de prédiction satisfaisante."
   ]
  }
 ],
 "metadata": {
  "kernelspec": {
   "display_name": "Python 3",
   "language": "python",
   "name": "python3"
  },
  "language_info": {
   "codemirror_mode": {
    "name": "ipython",
    "version": 3
   },
   "file_extension": ".py",
   "mimetype": "text/x-python",
   "name": "python",
   "nbconvert_exporter": "python",
   "pygments_lexer": "ipython3",
   "version": "3.8.8"
  }
 },
 "nbformat": 4,
 "nbformat_minor": 4
}
