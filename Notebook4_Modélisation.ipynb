{
 "cells": [
  {
   "cell_type": "code",
   "execution_count": 1,
   "metadata": {},
   "outputs": [
    {
     "name": "stdout",
     "output_type": "stream",
     "text": [
      "C:\\Users\\c.doussot\\Desktop\\Data Analyst\\GitHub\\ParisPyVelib_Datas\n"
     ]
    }
   ],
   "source": [
    "# Import library:\n",
    "import pandas as pd\n",
    "import numpy as np\n",
    "import matplotlib.pyplot as plt\n",
    "%matplotlib inline \n",
    "import seaborn as sns\n",
    "\n",
    "# Définition du chemin d'accès:\n",
    "### Céline\n",
    "%cd C:\\Users\\c.doussot\\Desktop\\Data Analyst\\GitHub\\ParisPyVelib_Datas\n",
    "### Hermine\n",
    "%cd C:\\Users\\h.berthon\\Documents\\GitHub\\ParisPyVelib\\ParisPyVelib_Datas\n",
    "### Tarik\n",
    "%cd C:\\Users\\Home\\Documents\\Git\\ParisPyVelib\\Data"
   ]
  },
  {
   "cell_type": "markdown",
   "metadata": {},
   "source": [
    "- Une idée serait de faire la modélisation sur les comptages horaires moyen par jour et non par heure. Cela simplifiera le nombre de données et permettra d'intégrer facilement les données météos."
   ]
  }
 ],
 "metadata": {
  "kernelspec": {
   "display_name": "Python 3",
   "language": "python",
   "name": "python3"
  },
  "language_info": {
   "codemirror_mode": {
    "name": "ipython",
    "version": 3
   },
   "file_extension": ".py",
   "mimetype": "text/x-python",
   "name": "python",
   "nbconvert_exporter": "python",
   "pygments_lexer": "ipython3",
   "version": "3.8.5"
  }
 },
 "nbformat": 4,
 "nbformat_minor": 4
}
