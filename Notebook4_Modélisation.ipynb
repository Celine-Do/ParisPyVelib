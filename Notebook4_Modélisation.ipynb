{
 "cells": [
  {
   "cell_type": "code",
   "execution_count": 12,
   "metadata": {},
   "outputs": [
    {
     "name": "stdout",
     "output_type": "stream",
     "text": [
      "C:\\Users\\anouart\\Documents\\JupyterNotebook\\PyVelib\\Data\n"
     ]
    }
   ],
   "source": [
    "# Import library:\n",
    "import pandas as pd\n",
    "import numpy as np\n",
    "import matplotlib.pyplot as plt\n",
    "%matplotlib inline \n",
    "import seaborn as sns\n",
    "\n",
    "# Définition du chemin d'accès:\n",
    "### Céline\n",
    "# %cd C:\\Users\\c.doussot\\Desktop\\Data Analyst\\GitHub\\ParisPyVelib_Datas\n",
    "### Hermine\n",
    "\n",
    "### Tarik\n",
    "%cd C:\\Users\\anouart\\Documents\\JupyterNotebook\\PyVelib\\Data"
   ]
  },
  {
   "cell_type": "markdown",
   "metadata": {},
   "source": [
    "- Une idée serait de faire la modélisation sur les comptages horaires moyen par jour et non par heure. Cela simplifiera le nombre de données et permettra d'intégrer facilement les données météos."
   ]
  },
  {
   "cell_type": "markdown",
   "metadata": {},
   "source": [
    "## Préparation des données"
   ]
  },
  {
   "cell_type": "code",
   "execution_count": 13,
   "metadata": {},
   "outputs": [],
   "source": [
    "df = pd.read_csv('2018-2021_donnees-velib-meteo_hour.csv')"
   ]
  },
  {
   "cell_type": "code",
   "execution_count": 14,
   "metadata": {},
   "outputs": [
    {
     "data": {
      "text/html": [
       "<div>\n",
       "<style scoped>\n",
       "    .dataframe tbody tr th:only-of-type {\n",
       "        vertical-align: middle;\n",
       "    }\n",
       "\n",
       "    .dataframe tbody tr th {\n",
       "        vertical-align: top;\n",
       "    }\n",
       "\n",
       "    .dataframe thead th {\n",
       "        text-align: right;\n",
       "    }\n",
       "</style>\n",
       "<table border=\"1\" class=\"dataframe\">\n",
       "  <thead>\n",
       "    <tr style=\"text-align: right;\">\n",
       "      <th></th>\n",
       "      <th>Count_by_hour</th>\n",
       "      <th>Date</th>\n",
       "      <th>Y_Date_Count</th>\n",
       "      <th>M_Date_Count</th>\n",
       "      <th>D_Date_Count</th>\n",
       "      <th>Dweek_Date_Count</th>\n",
       "      <th>H_Date_Count</th>\n",
       "      <th>Y_Date_Instal</th>\n",
       "      <th>M_Date_Instal</th>\n",
       "      <th>D_Date_Instal</th>\n",
       "      <th>...</th>\n",
       "      <th>nom_jour_ferie_Assomption</th>\n",
       "      <th>nom_jour_ferie_Jour de Noël</th>\n",
       "      <th>nom_jour_ferie_Lundi de Pentecôte</th>\n",
       "      <th>nom_jour_ferie_Lundi de Pâques</th>\n",
       "      <th>nom_jour_ferie_None</th>\n",
       "      <th>nom_jour_ferie_Toussaint</th>\n",
       "      <th>Confinement_id_Confinement 1</th>\n",
       "      <th>Confinement_id_Confinement 2</th>\n",
       "      <th>Confinement_id_Confinement 3</th>\n",
       "      <th>Confinement_id_None</th>\n",
       "    </tr>\n",
       "  </thead>\n",
       "  <tbody>\n",
       "    <tr>\n",
       "      <th>0</th>\n",
       "      <td>0.0</td>\n",
       "      <td>1543377600</td>\n",
       "      <td>2018.0</td>\n",
       "      <td>11.0</td>\n",
       "      <td>28.0</td>\n",
       "      <td>2.0</td>\n",
       "      <td>4.0</td>\n",
       "      <td>2018.0</td>\n",
       "      <td>11.0</td>\n",
       "      <td>28.0</td>\n",
       "      <td>...</td>\n",
       "      <td>0</td>\n",
       "      <td>0</td>\n",
       "      <td>0</td>\n",
       "      <td>0</td>\n",
       "      <td>1</td>\n",
       "      <td>0</td>\n",
       "      <td>0</td>\n",
       "      <td>0</td>\n",
       "      <td>0</td>\n",
       "      <td>1</td>\n",
       "    </tr>\n",
       "    <tr>\n",
       "      <th>1</th>\n",
       "      <td>0.0</td>\n",
       "      <td>1543388400</td>\n",
       "      <td>2018.0</td>\n",
       "      <td>11.0</td>\n",
       "      <td>28.0</td>\n",
       "      <td>2.0</td>\n",
       "      <td>7.0</td>\n",
       "      <td>2018.0</td>\n",
       "      <td>11.0</td>\n",
       "      <td>28.0</td>\n",
       "      <td>...</td>\n",
       "      <td>0</td>\n",
       "      <td>0</td>\n",
       "      <td>0</td>\n",
       "      <td>0</td>\n",
       "      <td>1</td>\n",
       "      <td>0</td>\n",
       "      <td>0</td>\n",
       "      <td>0</td>\n",
       "      <td>0</td>\n",
       "      <td>1</td>\n",
       "    </tr>\n",
       "    <tr>\n",
       "      <th>2</th>\n",
       "      <td>247.0</td>\n",
       "      <td>1543399200</td>\n",
       "      <td>2018.0</td>\n",
       "      <td>11.0</td>\n",
       "      <td>28.0</td>\n",
       "      <td>2.0</td>\n",
       "      <td>10.0</td>\n",
       "      <td>2018.0</td>\n",
       "      <td>11.0</td>\n",
       "      <td>28.0</td>\n",
       "      <td>...</td>\n",
       "      <td>0</td>\n",
       "      <td>0</td>\n",
       "      <td>0</td>\n",
       "      <td>0</td>\n",
       "      <td>1</td>\n",
       "      <td>0</td>\n",
       "      <td>0</td>\n",
       "      <td>0</td>\n",
       "      <td>0</td>\n",
       "      <td>1</td>\n",
       "    </tr>\n",
       "    <tr>\n",
       "      <th>3</th>\n",
       "      <td>96.0</td>\n",
       "      <td>1543410000</td>\n",
       "      <td>2018.0</td>\n",
       "      <td>11.0</td>\n",
       "      <td>28.0</td>\n",
       "      <td>2.0</td>\n",
       "      <td>13.0</td>\n",
       "      <td>2018.0</td>\n",
       "      <td>11.0</td>\n",
       "      <td>28.0</td>\n",
       "      <td>...</td>\n",
       "      <td>0</td>\n",
       "      <td>0</td>\n",
       "      <td>0</td>\n",
       "      <td>0</td>\n",
       "      <td>1</td>\n",
       "      <td>0</td>\n",
       "      <td>0</td>\n",
       "      <td>0</td>\n",
       "      <td>0</td>\n",
       "      <td>1</td>\n",
       "    </tr>\n",
       "    <tr>\n",
       "      <th>4</th>\n",
       "      <td>95.0</td>\n",
       "      <td>1543420800</td>\n",
       "      <td>2018.0</td>\n",
       "      <td>11.0</td>\n",
       "      <td>28.0</td>\n",
       "      <td>2.0</td>\n",
       "      <td>16.0</td>\n",
       "      <td>2018.0</td>\n",
       "      <td>11.0</td>\n",
       "      <td>28.0</td>\n",
       "      <td>...</td>\n",
       "      <td>0</td>\n",
       "      <td>0</td>\n",
       "      <td>0</td>\n",
       "      <td>0</td>\n",
       "      <td>1</td>\n",
       "      <td>0</td>\n",
       "      <td>0</td>\n",
       "      <td>0</td>\n",
       "      <td>0</td>\n",
       "      <td>1</td>\n",
       "    </tr>\n",
       "  </tbody>\n",
       "</table>\n",
       "<p>5 rows × 38 columns</p>\n",
       "</div>"
      ],
      "text/plain": [
       "   Count_by_hour        Date  Y_Date_Count  M_Date_Count  D_Date_Count  \\\n",
       "0            0.0  1543377600        2018.0          11.0          28.0   \n",
       "1            0.0  1543388400        2018.0          11.0          28.0   \n",
       "2          247.0  1543399200        2018.0          11.0          28.0   \n",
       "3           96.0  1543410000        2018.0          11.0          28.0   \n",
       "4           95.0  1543420800        2018.0          11.0          28.0   \n",
       "\n",
       "   Dweek_Date_Count  H_Date_Count  Y_Date_Instal  M_Date_Instal  \\\n",
       "0               2.0           4.0         2018.0           11.0   \n",
       "1               2.0           7.0         2018.0           11.0   \n",
       "2               2.0          10.0         2018.0           11.0   \n",
       "3               2.0          13.0         2018.0           11.0   \n",
       "4               2.0          16.0         2018.0           11.0   \n",
       "\n",
       "   D_Date_Instal  ...  nom_jour_ferie_Assomption  nom_jour_ferie_Jour de Noël  \\\n",
       "0           28.0  ...                          0                            0   \n",
       "1           28.0  ...                          0                            0   \n",
       "2           28.0  ...                          0                            0   \n",
       "3           28.0  ...                          0                            0   \n",
       "4           28.0  ...                          0                            0   \n",
       "\n",
       "   nom_jour_ferie_Lundi de Pentecôte  nom_jour_ferie_Lundi de Pâques  \\\n",
       "0                                  0                               0   \n",
       "1                                  0                               0   \n",
       "2                                  0                               0   \n",
       "3                                  0                               0   \n",
       "4                                  0                               0   \n",
       "\n",
       "   nom_jour_ferie_None  nom_jour_ferie_Toussaint  \\\n",
       "0                    1                         0   \n",
       "1                    1                         0   \n",
       "2                    1                         0   \n",
       "3                    1                         0   \n",
       "4                    1                         0   \n",
       "\n",
       "   Confinement_id_Confinement 1  Confinement_id_Confinement 2  \\\n",
       "0                             0                             0   \n",
       "1                             0                             0   \n",
       "2                             0                             0   \n",
       "3                             0                             0   \n",
       "4                             0                             0   \n",
       "\n",
       "   Confinement_id_Confinement 3  Confinement_id_None  \n",
       "0                             0                    1  \n",
       "1                             0                    1  \n",
       "2                             0                    1  \n",
       "3                             0                    1  \n",
       "4                             0                    1  \n",
       "\n",
       "[5 rows x 38 columns]"
      ]
     },
     "execution_count": 14,
     "metadata": {},
     "output_type": "execute_result"
    }
   ],
   "source": [
    "# selection d'un seul compteur\n",
    "df = df[df.Address == \"89 BD DE MAGENTA\"]\n",
    "\n",
    "# supression des colonnes non utile pour le modele\n",
    "df = df.drop(['Unnamed: 0', 'Coord', 'Coord_full', 'City_meteo', 'Latitude', 'Longitude', 'vacances_zone_c', 'Address', \n",
    "              'Direction', 'Source', 'Id', 'Date_instal'], axis = 1)\n",
    "\n",
    "# passage de la colonne date en datetime et passage en ms\n",
    "df['Date'] = pd.to_datetime(df['Date'], format = '%Y-%m-%dT%H:%M:%S')\n",
    "df['Date'] = df.Date.astype('int64') // 10**9      # réciproque : df['Date'] = pd.to_datetime(df['Date'], unit='s')\n",
    "\n",
    "# reset de l'index\n",
    "df = df.reset_index(drop=True)\n",
    "\n",
    "# list des variable catégorielle\n",
    "cat_df = df.select_dtypes(include='object')\n",
    "cat_df = cat_df.columns.tolist()\n",
    "\n",
    "# Transformation des variable catégorielle en variable indicatrices\n",
    "df = pd.get_dummies(df, columns=cat_df)\n",
    "\n",
    "# affichage des 5 première lignes du df\n",
    "df.head()"
   ]
  },
  {
   "cell_type": "code",
   "execution_count": 15,
   "metadata": {},
   "outputs": [],
   "source": [
    "# selection de la target et des feats\n",
    "target = df['Count_by_hour']\n",
    "feats = df.drop(['Count_by_hour'], axis=1)"
   ]
  },
  {
   "cell_type": "code",
   "execution_count": 16,
   "metadata": {},
   "outputs": [
    {
     "name": "stdout",
     "output_type": "stream",
     "text": [
      "<class 'pandas.core.frame.DataFrame'>\n",
      "RangeIndex: 7268 entries, 0 to 7267\n",
      "Data columns (total 37 columns):\n",
      " #   Column                                 Non-Null Count  Dtype  \n",
      "---  ------                                 --------------  -----  \n",
      " 0   Date                                   7268 non-null   int64  \n",
      " 1   Y_Date_Count                           7268 non-null   float64\n",
      " 2   M_Date_Count                           7268 non-null   float64\n",
      " 3   D_Date_Count                           7268 non-null   float64\n",
      " 4   Dweek_Date_Count                       7268 non-null   float64\n",
      " 5   H_Date_Count                           7268 non-null   float64\n",
      " 6   Y_Date_Instal                          7268 non-null   float64\n",
      " 7   M_Date_Instal                          7268 non-null   float64\n",
      " 8   D_Date_Instal                          7268 non-null   float64\n",
      " 9   T°C                                    7268 non-null   float64\n",
      " 10  Precip_last3h                          7268 non-null   float64\n",
      " 11  HR%                                    7268 non-null   float64\n",
      " 12  High_ice                               7268 non-null   float64\n",
      " 13  Wind_speed_mean10mn                    7268 non-null   float64\n",
      " 14  nom_vacances_None                      7268 non-null   uint8  \n",
      " 15  nom_vacances_Pont de l'Ascension       7268 non-null   uint8  \n",
      " 16  nom_vacances_Vacances d'hiver          7268 non-null   uint8  \n",
      " 17  nom_vacances_Vacances d'été            7268 non-null   uint8  \n",
      " 18  nom_vacances_Vacances de Noël          7268 non-null   uint8  \n",
      " 19  nom_vacances_Vacances de la Toussaint  7268 non-null   uint8  \n",
      " 20  nom_vacances_Vacances de printemps     7268 non-null   uint8  \n",
      " 21  nom_jour_ferie_11 novembre             7268 non-null   uint8  \n",
      " 22  nom_jour_ferie_14 juillet              7268 non-null   uint8  \n",
      " 23  nom_jour_ferie_1er janvier             7268 non-null   uint8  \n",
      " 24  nom_jour_ferie_1er mai                 7268 non-null   uint8  \n",
      " 25  nom_jour_ferie_8 mai                   7268 non-null   uint8  \n",
      " 26  nom_jour_ferie_Ascension               7268 non-null   uint8  \n",
      " 27  nom_jour_ferie_Assomption              7268 non-null   uint8  \n",
      " 28  nom_jour_ferie_Jour de Noël            7268 non-null   uint8  \n",
      " 29  nom_jour_ferie_Lundi de Pentecôte      7268 non-null   uint8  \n",
      " 30  nom_jour_ferie_Lundi de Pâques         7268 non-null   uint8  \n",
      " 31  nom_jour_ferie_None                    7268 non-null   uint8  \n",
      " 32  nom_jour_ferie_Toussaint               7268 non-null   uint8  \n",
      " 33  Confinement_id_Confinement 1           7268 non-null   uint8  \n",
      " 34  Confinement_id_Confinement 2           7268 non-null   uint8  \n",
      " 35  Confinement_id_Confinement 3           7268 non-null   uint8  \n",
      " 36  Confinement_id_None                    7268 non-null   uint8  \n",
      "dtypes: float64(13), int64(1), uint8(23)\n",
      "memory usage: 958.3 KB\n"
     ]
    }
   ],
   "source": [
    "# vérification du type des variables pour feats\n",
    "feats['High_ice'] = feats['High_ice'].fillna(0)\n",
    "feats.info()"
   ]
  },
  {
   "cell_type": "markdown",
   "metadata": {},
   "source": [
    "## SVM"
   ]
  },
  {
   "cell_type": "code",
   "execution_count": 24,
   "metadata": {},
   "outputs": [],
   "source": [
    "target = pd.qcut(target, 4, labels = [0, 1, 2, 3])"
   ]
  },
  {
   "cell_type": "code",
   "execution_count": null,
   "metadata": {},
   "outputs": [],
   "source": []
  },
  {
   "cell_type": "code",
   "execution_count": 26,
   "metadata": {},
   "outputs": [],
   "source": [
    "from sklearn.model_selection import train_test_split\n",
    "\n",
    "X_train, X_test, y_train, y_test = train_test_split(feats, target, test_size=0.05, random_state=101)"
   ]
  },
  {
   "cell_type": "code",
   "execution_count": 27,
   "metadata": {},
   "outputs": [],
   "source": [
    "# preprocessing\n",
    "\n",
    "from sklearn import preprocessing\n",
    "\n",
    "scaler = preprocessing.StandardScaler().fit(X_train)\n",
    "X_train_scaled = scaler.transform(X_train)\n",
    "X_test_scaled = scaler.transform(X_test)"
   ]
  },
  {
   "cell_type": "code",
   "execution_count": 28,
   "metadata": {},
   "outputs": [
    {
     "data": {
      "text/plain": [
       "SVC()"
      ]
     },
     "execution_count": 28,
     "metadata": {},
     "output_type": "execute_result"
    }
   ],
   "source": [
    "from sklearn import svm\n",
    "\n",
    "# Création d'un classifieur clf sans paramètres\n",
    "clf = svm.SVC()\n",
    "# Entrainement de l'algorithme sur l'ensemble d'entrainement\n",
    "clf.fit(X_train_scaled, y_train)"
   ]
  },
  {
   "cell_type": "code",
   "execution_count": 29,
   "metadata": {},
   "outputs": [
    {
     "name": "stdout",
     "output_type": "stream",
     "text": [
      "                           params  mean_test_score\n",
      "0     {'C': 0.1, 'kernel': 'rbf'}         0.576186\n",
      "1  {'C': 0.1, 'kernel': 'linear'}         0.587341\n",
      "2       {'C': 1, 'kernel': 'rbf'}         0.629345\n",
      "3    {'C': 1, 'kernel': 'linear'}         0.590238\n",
      "4      {'C': 10, 'kernel': 'rbf'}         0.693366\n",
      "5   {'C': 10, 'kernel': 'linear'}         0.590528\n",
      "6      {'C': 50, 'kernel': 'rbf'}         0.717844\n",
      "7   {'C': 50, 'kernel': 'linear'}         0.590383\n"
     ]
    }
   ],
   "source": [
    "from sklearn import model_selection\n",
    "\n",
    "# Recherche des meilleurs hyperparamètres\n",
    "\n",
    "parametres = {'C':[0.1,1,10,50], 'kernel':['rbf','linear']}\n",
    "\n",
    "grid_clf = model_selection.GridSearchCV(estimator=clf, param_grid=parametres)\n",
    "\n",
    "grille = grid_clf.fit(X_train_scaled,y_train)\n",
    "\n",
    "print(pd.DataFrame.from_dict(grille.cv_results_).loc[:,['params', 'mean_test_score']])"
   ]
  },
  {
   "cell_type": "code",
   "execution_count": 21,
   "metadata": {},
   "outputs": [
    {
     "name": "stdout",
     "output_type": "stream",
     "text": [
      "Le modèle qui fournit la meilleur prédiction à pour paramètres : {'C': 10, 'kernel': 'rbf'}\n"
     ]
    }
   ],
   "source": [
    "print('Le modèle qui fournit la meilleur prédiction à pour paramètres :',grid_clf.best_params_)"
   ]
  },
  {
   "cell_type": "code",
   "execution_count": 30,
   "metadata": {},
   "outputs": [
    {
     "data": {
      "text/html": [
       "<div>\n",
       "<style scoped>\n",
       "    .dataframe tbody tr th:only-of-type {\n",
       "        vertical-align: middle;\n",
       "    }\n",
       "\n",
       "    .dataframe tbody tr th {\n",
       "        vertical-align: top;\n",
       "    }\n",
       "\n",
       "    .dataframe thead th {\n",
       "        text-align: right;\n",
       "    }\n",
       "</style>\n",
       "<table border=\"1\" class=\"dataframe\">\n",
       "  <thead>\n",
       "    <tr style=\"text-align: right;\">\n",
       "      <th>Classe prédite</th>\n",
       "      <th>0</th>\n",
       "      <th>1</th>\n",
       "      <th>2</th>\n",
       "      <th>3</th>\n",
       "    </tr>\n",
       "    <tr>\n",
       "      <th>Classe réelle</th>\n",
       "      <th></th>\n",
       "      <th></th>\n",
       "      <th></th>\n",
       "      <th></th>\n",
       "    </tr>\n",
       "  </thead>\n",
       "  <tbody>\n",
       "    <tr>\n",
       "      <th>0</th>\n",
       "      <td>64</td>\n",
       "      <td>12</td>\n",
       "      <td>1</td>\n",
       "      <td>0</td>\n",
       "    </tr>\n",
       "    <tr>\n",
       "      <th>1</th>\n",
       "      <td>14</td>\n",
       "      <td>61</td>\n",
       "      <td>9</td>\n",
       "      <td>1</td>\n",
       "    </tr>\n",
       "    <tr>\n",
       "      <th>2</th>\n",
       "      <td>1</td>\n",
       "      <td>13</td>\n",
       "      <td>55</td>\n",
       "      <td>20</td>\n",
       "    </tr>\n",
       "    <tr>\n",
       "      <th>3</th>\n",
       "      <td>0</td>\n",
       "      <td>3</td>\n",
       "      <td>16</td>\n",
       "      <td>94</td>\n",
       "    </tr>\n",
       "  </tbody>\n",
       "</table>\n",
       "</div>"
      ],
      "text/plain": [
       "Classe prédite   0   1   2   3\n",
       "Classe réelle                 \n",
       "0               64  12   1   0\n",
       "1               14  61   9   1\n",
       "2                1  13  55  20\n",
       "3                0   3  16  94"
      ]
     },
     "execution_count": 30,
     "metadata": {},
     "output_type": "execute_result"
    }
   ],
   "source": [
    "# Prédiction des features test et création de la matrice de confusion\n",
    "\n",
    "clf = svm.SVC(C=10, kernel='rbf')\n",
    "clf.fit(X_train_scaled, y_train)\n",
    "\n",
    "y_pred = grid_clf.predict(X_test_scaled)\n",
    "pd.crosstab(y_test, y_pred, rownames=['Classe réelle'], colnames=['Classe prédite'])"
   ]
  }
 ],
 "metadata": {
  "kernelspec": {
   "display_name": "Python 3",
   "language": "python",
   "name": "python3"
  },
  "language_info": {
   "codemirror_mode": {
    "name": "ipython",
    "version": 3
   },
   "file_extension": ".py",
   "mimetype": "text/x-python",
   "name": "python",
   "nbconvert_exporter": "python",
   "pygments_lexer": "ipython3",
   "version": "3.8.5"
  }
 },
 "nbformat": 4,
 "nbformat_minor": 4
}
