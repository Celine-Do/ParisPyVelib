{
 "cells": [
  {
   "cell_type": "code",
   "execution_count": 1,
   "metadata": {},
   "outputs": [
    {
     "name": "stdout",
     "output_type": "stream",
     "text": [
      "loadingDataset\n",
      "loading time :  4.81 s\n",
      "saving dataset in new format\n"
     ]
    }
   ],
   "source": [
    "from rfModel import preLoadDataset\n",
    "import pandas as pd\n",
    "\n",
    "print('loadingDataset')\n",
    "data = preLoadDataset(\"Datas/2018-2021_donnees-velib-meteo_hour.csv\")\n",
    "\n",
    "print(\"saving dataset in new format\")\n",
    "data.to_hdf(\"Datas/machineLearningDataset.h5\", 'dst')"
   ]
  },
  {
   "cell_type": "code",
   "execution_count": null,
   "metadata": {},
   "outputs": [],
   "source": []
  }
 ],
 "metadata": {
  "kernelspec": {
   "display_name": "Python 3",
   "language": "python",
   "name": "python3"
  },
  "language_info": {
   "codemirror_mode": {
    "name": "ipython",
    "version": 3
   },
   "file_extension": ".py",
   "mimetype": "text/x-python",
   "name": "python",
   "nbconvert_exporter": "python",
   "pygments_lexer": "ipython3",
   "version": "3.8.5"
  }
 },
 "nbformat": 4,
 "nbformat_minor": 4
}
